{
 "metadata": {
  "name": "",
  "signature": "sha256:2ecd927260bc3a784584a0ebf22337bceed9c80508f3645fb74d1c03d7a12b86"
 },
 "nbformat": 3,
 "nbformat_minor": 0,
 "worksheets": []
}