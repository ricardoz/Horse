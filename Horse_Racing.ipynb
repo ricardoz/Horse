{
 "metadata": {
  "name": "Horse_Racing"
 },
 "nbformat": 3,
 "nbformat_minor": 0,
 "worksheets": [
  {
   "cells": [
    {
     "cell_type": "code",
     "collapsed": true,
     "input": [
      "#import the library used to query a website\n",
      "#from bs4 import BeautifulSoup\n",
      "import lxml.etree\n",
      "import lxml.html\n",
      "import urllib2\n",
      "\n"
     ],
     "language": "python",
     "metadata": {},
     "outputs": [],
     "prompt_number": 8
    },
    {
     "cell_type": "markdown",
     "metadata": {},
     "source": [
      "###Get the data on a horse  \n",
      "By chance, I have chosen [Rocktherunway](http://www.racingpost.com/horses/horse_home.sd?horse_id=788266) as we can see by accessing the soup object's  \n",
      "title.string or alternatively the first Header 1. The problem with the latter being that  \n",
      "the .string is empty so we must deal with HTML."
     ]
    },
    {
     "cell_type": "code",
     "collapsed": false,
     "input": [
      "\n",
      "url = urllib2.urlopen(\"http://www.racingpost.com/horses/horse_home.sd?horse_id=788266\")\n",
      "content = url.read()\n",
      "soup = lxml.html.fromstring(content)\n",
      "print soup"
     ],
     "language": "python",
     "metadata": {},
     "outputs": [
      {
       "output_type": "stream",
       "stream": "stdout",
       "text": [
        "<Element html at 0x391ef50>\n"
       ]
      }
     ],
     "prompt_number": 9
    },
    {
     "cell_type": "code",
     "collapsed": false,
     "input": [],
     "language": "python",
     "metadata": {},
     "outputs": [],
     "prompt_number": 9
    },
    {
     "cell_type": "markdown",
     "metadata": {},
     "source": [
      "###Detailed Info  \n",
      "We can find more information on the horse by using soup.find with id=\"detailedInfo\"  "
     ]
    },
    {
     "cell_type": "code",
     "collapsed": false,
     "input": [
      "\n",
      "detailedInfo = soup.get_element_by_id(\"detailedInfo\")\n",
      "print detailedInfo.text_content, \"ff\"\n",
      "help(detailedInfo.text_content)\n",
      "detailedInfo.text_content()\n",
      "print soup.find(\".//title\").text_content()"
     ],
     "language": "python",
     "metadata": {},
     "outputs": [
      {
       "output_type": "stream",
       "stream": "stdout",
       "text": [
        "<bound method HtmlElement.text_content of <Element ul at 0x37a6bf0>> ff\n",
        "Help on method text_content in module lxml.html:\n",
        "\n",
        "text_content(self) method of lxml.html.HtmlElement instance\n",
        "    Return the text content of the tag (and the text in any children).\n",
        "\n",
        "Rocktherunway | Record By Race Type | Racing Post\n"
       ]
      }
     ],
     "prompt_number": 10
    },
    {
     "cell_type": "code",
     "collapsed": false,
     "input": [
      "for td in detailedInfo:\n",
      "    text = td.text_content().split()\n",
      "    print text, \"---\",type(text)"
     ],
     "language": "python",
     "metadata": {},
     "outputs": [
      {
       "output_type": "stream",
       "stream": "stdout",
       "text": [
        "['4-y-o', '(11Mar09', 'ch', 'g)'] --- <type 'list'>\n",
        "[u'Nayef', u'(USA)', u'(10.8f)', u'\\u2014', u'Femme', u'Fatale', u'(Fairy', u'King', u'(USA)', u'(7.8f))'] --- <type 'list'>\n",
        "['Trainer', 'Michael', 'Dods'] --- <type 'list'>\n",
        "['Owner', 'Sedgewick,Dods,Sunley', 'Racing', 'Partnership', 'The', 'Sedgewick', '&', 'Dods', 'Racing', 'Partnership', 'until', '16', 'Jun', '2012'] --- <type 'list'>\n",
        "['Breeder', 'J', 'Hanly,', 'A', 'Stroud', 'And', 'T', 'Stewart'] --- <type 'list'>\n"
       ]
      }
     ],
     "prompt_number": 11
    },
    {
     "cell_type": "markdown",
     "metadata": {},
     "source": [
      "###More interesting stuff  \n",
      "We can leave out the background info for now and move onto the races. For this we will use find_all.  \n",
      "First lets check how many tables there are. "
     ]
    },
    {
     "cell_type": "code",
     "collapsed": false,
     "input": [
      "tables = soup.findall(\".//table\")\n",
      "print len(tables)\n",
      "print tables[0]"
     ],
     "language": "python",
     "metadata": {},
     "outputs": [
      {
       "output_type": "stream",
       "stream": "stdout",
       "text": [
        "2\n",
        "<Element table at 0x37a6d70>\n"
       ]
      }
     ],
     "prompt_number": 12
    },
    {
     "cell_type": "code",
     "collapsed": false,
     "input": [
      "#help(raceGrid)"
     ],
     "language": "python",
     "metadata": {},
     "outputs": [
      {
       "ename": "NameError",
       "evalue": "name 'raceGrid' is not defined",
       "output_type": "pyerr",
       "traceback": [
        "\u001b[1;31m---------------------------------------------------------------------------\u001b[0m\n\u001b[1;31mNameError\u001b[0m                                 Traceback (most recent call last)",
        "\u001b[1;32m<ipython-input-13-d73b93d46e8a>\u001b[0m in \u001b[0;36m<module>\u001b[1;34m()\u001b[0m\n\u001b[1;32m----> 1\u001b[1;33m \u001b[0mhelp\u001b[0m\u001b[1;33m(\u001b[0m\u001b[0mraceGrid\u001b[0m\u001b[1;33m)\u001b[0m\u001b[1;33m\u001b[0m\u001b[0m\n\u001b[0m",
        "\u001b[1;31mNameError\u001b[0m: name 'raceGrid' is not defined"
       ]
      }
     ],
     "prompt_number": 13
    },
    {
     "cell_type": "markdown",
     "metadata": {},
     "source": [
      "  \n",
      "So the first table is his career summary so let's move onto the second one."
     ]
    },
    {
     "cell_type": "code",
     "collapsed": false,
     "input": [
      "\n",
      "raceGrid = tables[1]\n",
      "\n",
      "#for tag in raceGrid.recursiveChildGenerator():\n",
      " #   if isinstance(tag,bs4.Tag) and not tag.string is None :#and tag.name in ('a','b','i'):\n",
      "  #      print(tag.string)"
     ],
     "language": "python",
     "metadata": {},
     "outputs": [],
     "prompt_number": 14
    },
    {
     "cell_type": "markdown",
     "metadata": {},
     "source": [
      "  \n",
      "So here is what a line looks like:  \n",
      " 23Jul11    Ncs 7GS  C42yMdAc 3K  8-12  2/7 (4L Just Fabulous 8-9) 8/1  Frederik Tylicki  \u2014 *  *    \n",
      "\n",
      "and this is what we get out:  \n",
      "23Jul11\n",
      "Ncs\n",
      "8-12 \n",
      "2\n",
      "(4L Just Fabulous 8-9)\n",
      "Frederik Tylicki\n",
      "\u2014\n",
      "*\n",
      "*  \n",
      "\n",
      "So we are missing 7GS C42yMdAc 3K /7 and 8/1  \n",
      "\n",
      "\n",
      "OK, lets just look at one race element  \n",
      "\n",
      "\n"
     ]
    },
    {
     "cell_type": "code",
     "collapsed": false,
     "input": [
      "races = raceGrid.findall(\".//tr\")\n",
      "race = races[2]\n",
      "data = race.findall(\".//td\")\n",
      "\n",
      "\n",
      "\n",
      "for td in data:\n",
      "    text = td.text_content().split()\n",
      "    print text, \"---\",type(text)"
     ],
     "language": "python",
     "metadata": {},
     "outputs": [
      {
       "output_type": "stream",
       "stream": "stdout",
       "text": [
        "[] --- <type 'list'>\n",
        "[u'13Apr13'] --- <type 'list'>\n",
        "['Don', '12Gd', 'C3Hc', '7K'] --- <type 'list'>\n",
        "['8-11'] --- <type 'list'>\n",
        "[u'11/14', u'(18\\xbdL', u'Ingleby', u'Spirit', u'8-7)', u'p', u'33/1'] --- <type 'list'>\n",
        "['Tom', 'Eaves'] --- <type 'list'>\n",
        "['81'] --- <type 'list'>\n",
        "['*'] --- <type 'list'>\n",
        "['*'] --- <type 'list'>\n"
       ]
      }
     ],
     "prompt_number": 15
    },
    {
     "cell_type": "markdown",
     "metadata": {},
     "source": [
      "###Getting Data From Row  \n",
      "0. Empty\n",
      "1. [1] Date\n",
      "2. [2] Course [3] Furlongs/Going [4]Class and RaceType and Value\n",
      "3. Weight\n",
      "4. [1] Position [2] Runners [3] Distance / WinnerorRunnerUp / woruWeight [4] p? and price\n",
      "5. [1] jockey\n",
      "6. OR\n",
      "7. [1] TS\n",
      "8. [1] RPR"
     ]
    },
    {
     "cell_type": "code",
     "collapsed": false,
     "input": [
      "def dataFromRow(race):\n",
      "    vals = {}\n",
      "    \n",
      "    data = race.findall(\".//td\")\n",
      "    \n",
      "    dt = [d.text_content().split() for d in data]\n",
      "    \n",
      "    vals['date'] = dt [1][0]\n",
      "    #print \"1\", dt[1], len(dt[1]), type(dt[1])\n",
      "    \n",
      "    vals['course'] = dt [2][0]\n",
      "    vals['dist/going'] = dt [2][1]\n",
      "    vals['class/rt'] = dt [2][2]\n",
      "    vals['value'] = dt [2][3]\n",
      "    \n",
      "    vals['weight'] = dt [3][0]\n",
      "    \n",
      "    posRunners = dt [4][0].split(\"/\")\n",
      "    \n",
      "    \n",
      "    \n",
      "    vals['pos'] = posRunners[0]\n",
      "    vals['runners'] = posRunners[1]\n",
      "    \n",
      "    \n",
      "    \n",
      "    vals['price'] = dt [4][-1]\n",
      "    \n",
      "    print dt[4][1][1:-1], type(dt[4][1][1:-1])\n",
      "    import unicodedata\n",
      "    distance = 0\n",
      "    \n",
      "    if isinstance(dt[4][1], unicode):\n",
      "        distance = int( dt[4][1][1:-2] ) + unicodedata.numeric(dt[4][1][-2])\n",
      "        \n",
      "    else:\n",
      "        distance = int( dt[4][1][1:-1])\n",
      "        \n",
      "    vals['dist/next'] = str(distance) + \" \" + \" \".join(dt [4][2:-1])\n",
      "    \n",
      "    print vals['dist/next']\n",
      "    \n",
      "    \n",
      "    vals['jockey'] = \" \".join(dt [5])\n",
      "    \n",
      "    vals['or'] = dt [6][0]\n",
      "    vals['ts'] = dt [7][0]\n",
      "    vals['rpr'] = dt [8][0]\n",
      "    \n",
      "    return vals\n",
      "\n",
      "v = dataFromRow(races[2])\n",
      "\n",
      "print v\n",
      "    \n",
      "    \n",
      "    "
     ],
     "language": "python",
     "metadata": {},
     "outputs": [
      {
       "output_type": "stream",
       "stream": "stdout",
       "text": [
        "18\u00bd <type 'unicode'>\n",
        "18.5 Ingleby Spirit 8-7) p\n",
        "{'jockey': 'Tom Eaves', 'weight': '8-11', 'class/rt': 'C3Hc', 'price': u'33/1', 'dist/going': '12Gd', 'value': '7K', 'pos': u'11', 'course': 'Don', 'rpr': '*', 'ts': '*', 'dist/next': u'18.5 Ingleby Spirit 8-7) p', 'date': u'13Apr13', 'or': '81', 'runners': u'14'}\n"
       ]
      }
     ],
     "prompt_number": 38
    },
    {
     "cell_type": "markdown",
     "metadata": {},
     "source": [
      "### Does this work for all rows?"
     ]
    },
    {
     "cell_type": "code",
     "collapsed": false,
     "input": [
      "for r in races[1:]:\n",
      "    print dataFromRow(r)\n",
      "    \n"
     ],
     "language": "python",
     "metadata": {},
     "outputs": [
      {
       "output_type": "stream",
       "stream": "stdout",
       "text": [
        "(1L <type 'str'>\n",
        "{'jockey': 'Tom Eaves', 'weight': '9-7', 'class/rt': 'C4Hc', 'price': '25/1', 'dist/going': '15GF', 'value': '5K', 'pos': '1', 'course': 'Don', 'rpr': '*', 'ts': '*', 'dist/next': '(1L Knightly Escapade 9-7) p', 'date': u'04May13', 'or': '77', 'runners': '8'}\n",
        "(18\u00bdL <type 'unicode'>\n",
        "{'jockey': 'Tom Eaves', 'weight': '8-11', 'class/rt': 'C3Hc', 'price': u'33/1', 'dist/going': '12Gd', 'value': '7K', 'pos': u'11', 'course': 'Don', 'rpr': '*', 'ts': '*', 'dist/next': u'(18\\xbdL Ingleby Spirit 8-7) p', 'date': u'13Apr13', 'or': '81', 'runners': u'14'}\n",
        "(15\u00bdL <type 'unicode'>\n",
        "{'jockey': 'Tom Eaves', 'weight': '9-7', 'class/rt': 'C4Hc', 'price': u'8/1', 'dist/going': '10GS', 'value': '4K', 'pos': u'8', 'course': 'Ncs', 'rpr': '*', 'ts': '*', 'dist/next': u\"(15\\xbdL Beaumont's Party 9-2)\", 'date': u'06Apr13', 'or': '83', 'runners': u'8'}\n",
        "(18L <type 'str'>\n",
        "{'jockey': 'Lee Topliss', 'weight': '9-1', 'class/rt': 'C4Hc', 'price': '12/1', 'dist/going': '10Sft', 'value': '4K', 'pos': '11', 'course': 'Red', 'rpr': '*', 'ts': '*', 'dist/next': '(18L First Mohican 9-5)', 'date': u'06Oct12', 'or': '84', 'runners': '14'}\n",
        "(16L <type 'str'>\n",
        "{'jockey': 'Jim Crowley', 'weight': '9-7', 'class/rt': 'C43yHc', 'price': '9/4F', 'dist/going': '12GS', 'value': '4K', 'pos': '8', 'course': 'Sal', 'rpr': '*', 'ts': '*', 'dist/next': '(16L Varnish 9-1)', 'date': u'31Aug12', 'or': '84', 'runners': '8'}\n",
        "(10L <type 'str'>\n",
        "{'jockey': 'Lee Topliss', 'weight': '9-4', 'class/rt': 'C43yHc', 'price': '2/1F', 'dist/going': '14Sft', 'value': '4K', 'pos': '2', 'course': 'Hay', 'rpr': '*', 'ts': '*', 'dist/next': '(10L Flashman 8-3)', 'date': u'20Jul12', 'or': '84', 'runners': '6'}\n",
        "(12\u00bdL <type 'unicode'>\n",
        "{'jockey': 'Cathy Gannon', 'weight': '8-2', 'class/rt': 'C23yHc', 'price': u'25/1', 'dist/going': '12GS', 'value': '34K', 'pos': u'16', 'course': 'Asc', 'rpr': '*', 'ts': '*', 'dist/next': u'(12\\xbdL Fennell Bay 8-1)', 'date': u'21Jun12', 'or': '86', 'runners': u'18'}\n",
        "(shd <type 'str'>\n",
        "{'jockey': 'Lee Topliss', 'weight': '9-4', 'class/rt': 'C43yHc', 'price': '9/2', 'dist/going': '12GS', 'value': '12K', 'pos': '1', 'course': 'Mus', 'rpr': '*', 'ts': '*', 'dist/next': '(shd Moon Trip 8-13)', 'date': u'02Jun12', 'or': '80', 'runners': '12'}\n",
        "(31L <type 'str'>\n",
        "{'jockey': 'Lee Topliss', 'weight': '9-0', 'class/rt': 'C53yMd', 'price': '2/7F', 'dist/going': '10Sft', 'value': '2K', 'pos': '1', 'course': 'Ncs', 'rpr': '*', 'ts': '*', 'dist/next': '(31L Gangsterbanksters 9-3)', 'date': u'18May12', 'or': '78', 'runners': '3'}\n",
        "(1\u00bdL <type 'unicode'>\n",
        "{'jockey': 'Paul Mulrennan', 'weight': '8-9', 'class/rt': 'C5Md', 'price': u'EvensF', 'dist/going': '12GS', 'value': '3K', 'pos': u'2', 'course': 'Thi', 'rpr': '*', 'ts': '*', 'dist/next': u'(1\\xbdL Countess Ferrama 8-4)', 'date': u'05May12', 'or': '78', 'runners': u'12'}\n",
        "(2\u00bdL <type 'unicode'>\n",
        "{'jockey': 'Tom Eaves', 'weight': '9-0', 'class/rt': 'C43yHc', 'price': u'9/2', 'dist/going': '10Hy', 'value': '4K', 'pos': u'3', 'course': 'Don', 'rpr': '*', 'ts': '*', 'dist/next': u'(2\\xbdL Spirit Of The Law 8-12)', 'date': u'27Apr12', 'or': '73', 'runners': u'10'}\n",
        "(\u00bcL <type 'unicode'>\n",
        "{'jockey': 'Dale Swift', 'weight': '8-12', 'class/rt': 'C43yHc', 'price': u'16/1', 'dist/going': '10Sft', 'value': '4K', 'pos': u'2', 'course': 'Bev', 'rpr': '*', 'ts': '*', 'dist/next': u'(\\xbcL Sparkling Portrait 9-6)', 'date': u'18Apr12', 'or': '73', 'runners': u'11'}\n",
        "(7\u00bdL <type 'unicode'>\n",
        "{'jockey': 'Tom Eaves', 'weight': '9-7', 'class/rt': 'C52yHc', 'price': u'6/1', 'dist/going': '8Gd', 'value': '2K', 'pos': u'6', 'course': 'Pon', 'rpr': '*', 'ts': '*', 'dist/next': u'(7\\xbdL Twelve Strings 8-12)', 'date': u'17Oct11', 'or': '74', 'runners': u'14'}\n",
        "(2\u00bdL <type 'unicode'>\n",
        "{'jockey': 'Tony Hamilton', 'weight': '9-3', 'class/rt': 'C52yMd', 'price': u'18/1', 'dist/going': '8Sft', 'value': '3K', 'pos': u'4', 'course': 'Ham', 'rpr': '*', 'ts': '*', 'dist/next': u\"(2\\xbdL Gabrial's Star 9-3)\", 'date': u'18Sep11', 'or': u'\\u2014', 'runners': u'9'}\n",
        "(5\u00bcL <type 'unicode'>\n",
        "{'jockey': 'Tony Hamilton', 'weight': '9-3', 'class/rt': 'C42yMd', 'price': u'20/1', 'dist/going': '8Sft', 'value': '4K', 'pos': u'5', 'course': 'Thi', 'rpr': '*', 'ts': '*', 'dist/next': u'(5\\xbcL Tidal Way 9-0)', 'date': u'26Aug11', 'or': u'\\u2014', 'runners': u'14'}\n",
        "(4L <type 'str'>\n",
        "{'jockey': 'Frederik Tylicki', 'weight': '8-12', 'class/rt': 'C42yMdAc', 'price': '8/1', 'dist/going': '7GS', 'value': '3K', 'pos': '2', 'course': 'Ncs', 'rpr': '*', 'ts': '*', 'dist/next': '(4L Just Fabulous 8-9)', 'date': u'23Jul11', 'or': u'\\u2014', 'runners': '7'}\n"
       ]
      }
     ],
     "prompt_number": 17
    },
    {
     "cell_type": "code",
     "collapsed": false,
     "input": [
      "class Race(object):\n",
      "    \n",
      "    def price(self, tag):\n",
      "        if tag[0] == 'E':\n",
      "            return 1.0\n",
      "        \n",
      "        else:\n",
      "            num, den = tag.split('/')\n",
      "        \n",
      "            if len(num.split())>1:\n",
      "                num = int(num.split()[1].strip())\n",
      "            \n",
      "            den = den.strip()\n",
      "        \n",
      "            if not den[-1].isdigit():\n",
      "                \n",
      "                den = den[:-1]\n",
      "        \n",
      "            return float(num)/int(den)\n",
      "            \n",
      "\n",
      "    def fg(self, fg):\n",
      "            if (fg[1].isdigit()):\n",
      "                print fg[1], \"digit\"\n",
      "                return (int(fg[0:2]), fg[2:])\n",
      "            else:\n",
      "                return (int(fg[0:1]), fg[1:])\n",
      "            \n",
      "    def weight(self, w):\n",
      "        stones, pounds = w.split('-')\n",
      "        return 14 * int(stones) + int(pounds)\n",
      "\n",
      "    def __init__(self, rx):\n",
      "\n",
      "        date = rx['date']\n",
      "        day = int(date[0:2])\n",
      "        month = date[2:5]\n",
      "        year = int(date[5:])\n",
      "\n",
      "        print day, month, year\n",
      "    \n",
      "\n",
      "        self.course = rx['course']\n",
      "        f_g = rx['dist/going'].strip()\n",
      "        self.furlongs, self.going = self.fg(f_g)\n",
      "\n",
      "        print self.furlongs, self.going\n",
      "        \n",
      "        key = 'class/rt/value'\n",
      "        v = rx['value'].strip()\n",
      "        print \"value\",v, \"--\", v[:v.index('K')]\n",
      "        self.raceClass = rx['class/rt']\n",
      "        self.value = int(v[:v.index('K')])\n",
      "        \n",
      "        print self.raceClass, self.value\n",
      "        \n",
      "        self.weight = self.weight(rx['weight'])\n",
      "        \n",
      "        print self.weight, \"lbs\"\n",
      "        \n",
      "        self.pos = int(rx['pos'])\n",
      "        self.runners = int(rx['runners'].strip())\n",
      "        \n",
      "        print self.pos, \"out of\", self.runners\n",
      "        \n",
      "        self.price = self.price(rx['price'].strip())\n",
      "        \n",
      "        print self.price\n",
      "        \n",
      "        self.jockey = rx['jockey']\n",
      "        self.OR = rx['or']\n",
      "        self.ts = rx['ts']\n",
      "        self.rpr = rx['rpr']\n",
      "        \n",
      "        \n",
      "\n",
      "\n",
      "\n",
      "\n",
      "\n"
     ],
     "language": "python",
     "metadata": {},
     "outputs": []
    },
    {
     "cell_type": "code",
     "collapsed": false,
     "input": [
      "\n",
      "\n",
      "all = races[2:]\n",
      "\n",
      "r = [Race(dataFromRow(r)) for r in all]\n"
     ],
     "language": "python",
     "metadata": {},
     "outputs": []
    },
    {
     "cell_type": "markdown",
     "metadata": {},
     "source": [
      "### Let's turn those races into horses"
     ]
    },
    {
     "cell_type": "code",
     "collapsed": false,
     "input": [
      "class Horse(object):\n",
      "\n",
      "    def __init__(self, rxs):\n",
      "\n",
      "        self.rxs = rxs\n",
      "\n",
      "    def numberOfraces(self):\n",
      "        return len(self.rxs)\n",
      "    \n",
      "    def distance(self, furlong, greater = True):\n",
      "        if greater:\n",
      "            return [race.furlongs for race in self.rxs if race.furlongs >= furlong]\n",
      "        else:\n",
      "            return [race.furlongs for race in self.rxs if race.furlongs <= furlong]"
     ],
     "language": "python",
     "metadata": {},
     "outputs": []
    },
    {
     "cell_type": "code",
     "collapsed": false,
     "input": [
      "horse = Horse(r)\n",
      "print horse.foo(9)\n"
     ],
     "language": "python",
     "metadata": {},
     "outputs": []
    }
   ],
   "metadata": {}
  }
 ]
}