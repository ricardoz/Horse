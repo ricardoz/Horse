{
 "metadata": {
  "name": "",
  "signature": "sha256:3c8bc7046cb8f255716a089ae4034dab464708948c1046338744525cc727bf60"
 },
 "nbformat": 3,
 "nbformat_minor": 0,
 "worksheets": [
  {
   "cells": [
    {
     "cell_type": "markdown",
     "metadata": {},
     "source": [
      "# KDC\n"
     ]
    },
    {
     "cell_type": "markdown",
     "metadata": {},
     "source": [
      "### How They See Themselves\n",
      "\n",
      "###### Best Of Irish Crafts Under One Roof\n",
      ">Kilkenny Design Centre offers an unrivalled selection of Irish handcrafted gifts.  While it has many imitators, the Centre remains Ireland\u2019s most prestigious source of Irish gifts of exceptional quality, all chosen with a discerning eye for quality, uniqueness and style.  \n",
      "\n",
      ">Kilkenny Design Centre\u2019s unequalled supplier list, drawn from Ireland\u2019s most eminent craftspeople and designers, gives visitors a uniquely special shopping experience, allowing them to purchase the best of Irish crafts and design under one roof.  Visitors from outside of the EU can avail of highly attractive tax free shopping.    \n",
      "\n",
      "###### World-Renowned Gifts\n",
      ">A world renowned selection of Jewellery, Knitwear, Celtic Gifts, China & Crystal, Pottery & Glass, Home & Fashion Accessories and stunning one off contemporary design pieces, are all available, ensuring that choosing that perfect gift for any occasion is a true pleasure.  \n",
      "\n",
      "\n",
      "###### Unique an Craftwork from Emerging Talents \n",
      ">Kilkenny Design Centre is also renowned for showcasing emerging Irish craftspeople and their unique work, respected and sought after all over the world.  \n",
      "\n",
      "\n"
     ]
    },
    {
     "cell_type": "markdown",
     "metadata": {},
     "source": [
      "I agree that the above are truly excellent sentiments.\n",
      "\n",
      "Ask Grace what items are unique to KDC.\n",
      "\n",
      "[NCAD invoved in archiving Kikenny Design Workshop Material](http://www.ncad.ie/art-design-research-institute/research-priorities-2012-2016/modern-irish-design-history-and-material-culture/research-projects/)"
     ]
    },
    {
     "cell_type": "code",
     "collapsed": false,
     "input": [
      "from IPython.display import Image\n",
      "i = Image(url='http://www.franandjane.com/uploads/2/1/3/2/21320244/7630328_orig.jpg')\n",
      "i"
     ],
     "language": "python",
     "metadata": {},
     "outputs": [
      {
       "html": [
        "<img src=\"http://www.franandjane.com/uploads/2/1/3/2/21320244/7630328_orig.jpg\"/>"
       ],
       "metadata": {},
       "output_type": "pyout",
       "prompt_number": 7,
       "text": [
        "<IPython.core.display.Image at 0x7f47dc017dd0>"
       ]
      }
     ],
     "prompt_number": 7
    },
    {
     "cell_type": "code",
     "collapsed": false,
     "input": [
      "!ls\n"
     ],
     "language": "python",
     "metadata": {},
     "outputs": [
      {
       "output_type": "stream",
       "stream": "stdout",
       "text": [
        "KDC Presentation.ipynb\tWeek 1.ipynb\r\n"
       ]
      }
     ],
     "prompt_number": 8
    }
   ],
   "metadata": {}
  }
 ]
}