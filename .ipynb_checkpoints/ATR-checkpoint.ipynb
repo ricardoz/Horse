{
 "metadata": {
  "name": ""
 },
 "nbformat": 3,
 "nbformat_minor": 0,
 "worksheets": [
  {
   "cells": [
    {
     "cell_type": "markdown",
     "metadata": {},
     "source": [
      "#CONFIGURATION"
     ]
    },
    {
     "cell_type": "code",
     "collapsed": false,
     "input": [
      "sqla = False\n",
      "race-meetings = None"
     ],
     "language": "python",
     "metadata": {},
     "outputs": [
      {
       "ename": "NameError",
       "evalue": "name 'FALSE' is not defined",
       "output_type": "pyerr",
       "traceback": [
        "\u001b[1;31m---------------------------------------------------------------------------\u001b[0m\n\u001b[1;31mNameError\u001b[0m                                 Traceback (most recent call last)",
        "\u001b[1;32m<ipython-input-82-f598ef02c314>\u001b[0m in \u001b[0;36m<module>\u001b[1;34m()\u001b[0m\n\u001b[1;32m----> 1\u001b[1;33m \u001b[0msqla\u001b[0m \u001b[1;33m=\u001b[0m \u001b[0mFALSE\u001b[0m\u001b[1;33m\u001b[0m\u001b[0m\n\u001b[0m",
        "\u001b[1;31mNameError\u001b[0m: name 'FALSE' is not defined"
       ]
      }
     ],
     "prompt_number": 82
    },
    {
     "cell_type": "markdown",
     "metadata": {},
     "source": [
      "#SQLAlchemy"
     ]
    },
    {
     "cell_type": "code",
     "collapsed": false,
     "input": [
      "from sqlalchemy import *\n",
      "\n",
      "# Let's re-use the same database as before\n",
      "db = create_engine('sqlite:///tutorial.db')\n",
      "\n",
      "db.echo = True  # We want to see the SQL we're creating\n",
      "\n",
      "import time\n",
      "\n",
      "date = time.strftime(\"%Y-%m-%d\")\n",
      "print date"
     ],
     "language": "python",
     "metadata": {},
     "outputs": [
      {
       "output_type": "stream",
       "stream": "stdout",
       "text": [
        "2014-04-23\n"
       ]
      }
     ],
     "prompt_number": 83
    },
    {
     "cell_type": "markdown",
     "metadata": {},
     "source": [
      "###check for todays date"
     ]
    },
    {
     "cell_type": "markdown",
     "metadata": {},
     "source": [
      "- course\n",
      "- meeting (course, date)\n",
      "- race (meeting, distance, runners, time, ordinality)\n",
      "- runners (race, horse, tf, draw, pos)"
     ]
    },
    {
     "cell_type": "markdown",
     "metadata": {},
     "source": [
      "#Objects\n",
      "###Meeting"
     ]
    },
    {
     "cell_type": "code",
     "collapsed": false,
     "input": [
      "class Meeting(object):\n",
      "    def __init__(self, data):\n",
      "        self.course = data[0]\n",
      "        self.data = data #TODO\n",
      "        \n",
      "        race_data = data[1].text.split(\"\\n\")[2:-1]\n",
      "        race_link = [x.get('href') for x in data[1].find_all(\"a\")[1:]]\n",
      "        \n",
      "        self.races = [Race(self, *x) for x in zip(race_data, race_link)] \n",
      "\n",
      "        print \"Link for each race:\", len(race_data) == len(race_link)\n",
      "        \n",
      "    \n",
      "    def __str__(self):\n",
      "        s = self.course + \"\\n\"\n",
      "        t = \"\\n\".join( [str(x) for x in  self.races ]  )\n",
      "        return s+t\n",
      "        \n",
      "        "
     ],
     "language": "python",
     "metadata": {},
     "outputs": [],
     "prompt_number": 84
    },
    {
     "cell_type": "markdown",
     "metadata": {},
     "source": [
      "### Races\n",
      "- convert distance string to float"
     ]
    },
    {
     "cell_type": "code",
     "collapsed": false,
     "input": [
      "class Race(object):\n",
      "    def __init__(self, meeting, data, link):\n",
      "        self.meeting = meeting\n",
      "        # data = 17:05 - 5f \n",
      "        # link = /card.aspx?raceid=813020&meetingid=65660&date=2014-04-24&ref=mainracenavigation&refsite=&nav=racecards\n",
      "        \n",
      "        tokens = [x.strip() for x in data.split(\"-\")]\n",
      "        self.time = tokens[0]\n",
      "        self.distance = tokens[1]\n",
      "        self.link = link\n",
      "        #print \"Link for each race:\", len(race_data) == len(race_link)\n",
      "        \n",
      "    def __str__(self):\n",
      "        s =\"Course: \" + self.meeting.course + \" Time: \" + self.time + \" Distance: \" + self.distance + \"\\nlink: \" + self.link\n",
      "        return s"
     ],
     "language": "python",
     "metadata": {},
     "outputs": [],
     "prompt_number": 85
    },
    {
     "cell_type": "markdown",
     "metadata": {},
     "source": [
      "# Utilities\n",
      "### Soupify: get next address"
     ]
    },
    {
     "cell_type": "code",
     "collapsed": false,
     "input": [
      "import lxml.etree\n",
      "import lxml.html\n",
      "import urllib2\n",
      "from bs4 import BeautifulSoup"
     ],
     "language": "python",
     "metadata": {},
     "outputs": [],
     "prompt_number": 86
    },
    {
     "cell_type": "code",
     "collapsed": false,
     "input": [
      "def soupify(url):\n",
      "    address = \"http://www.attheraces.com\" + url\n",
      "    url = urllib2.urlopen(address)\n",
      "    content = url.read()\n",
      "    return BeautifulSoup(content)\n",
      "    "
     ],
     "language": "python",
     "metadata": {},
     "outputs": [],
     "prompt_number": 89
    },
    {
     "cell_type": "markdown",
     "metadata": {},
     "source": [
      "### Get All ____\n",
      "- race meetings -> Already have\n",
      "- races"
     ]
    },
    {
     "cell_type": "code",
     "collapsed": false,
     "input": [
      "def all_races():\n",
      "    return [race for meeting in race_meetings for race in meeting.races]\n",
      "\n"
     ],
     "language": "python",
     "metadata": {},
     "outputs": [],
     "prompt_number": 101
    },
    {
     "cell_type": "markdown",
     "metadata": {},
     "source": [
      "# Wanted: remove foreign races\n",
      "\n",
      "can I zip it?  \n",
      "still need to check IRE"
     ]
    },
    {
     "cell_type": "code",
     "collapsed": false,
     "input": [
      "def wanted(meeting):\n",
      "    \n",
      "    if not '(' in meeting:\n",
      "        return True\n",
      "    \n",
      "    if '(Ire)' in meeting:\n",
      "        return True\n",
      "    else:\n",
      "        return False"
     ],
     "language": "python",
     "metadata": {},
     "outputs": [],
     "prompt_number": 90
    },
    {
     "cell_type": "markdown",
     "metadata": {},
     "source": [
      "#Code"
     ]
    },
    {
     "cell_type": "code",
     "collapsed": false,
     "input": [
      "address = \"http://www.attheraces.com/todaysracecards/?ref=atrFastFixtures\"\n",
      "address = \"http://www.attheraces.com/tomorrowsracing/?ref=atrFastFixtures\""
     ],
     "language": "python",
     "metadata": {},
     "outputs": [],
     "prompt_number": 87
    },
    {
     "cell_type": "code",
     "collapsed": false,
     "input": [
      "url = urllib2.urlopen(address)\n",
      "content = url.read()"
     ],
     "language": "python",
     "metadata": {},
     "outputs": [],
     "prompt_number": 88
    },
    {
     "cell_type": "code",
     "collapsed": false,
     "input": [
      "soup = BeautifulSoup(content)\n",
      "print soup.title\n",
      "print soup.title.name\n",
      "print soup.title.string"
     ],
     "language": "python",
     "metadata": {},
     "outputs": [
      {
       "output_type": "stream",
       "stream": "stdout",
       "text": [
        "<title>\r\n",
        "\tAt The Races - UK and Irish Horse Racing video, form, tips, odds and news  - fixtures\r\n",
        "</title>\n",
        "title\n",
        "\r\n",
        "\tAt The Races - UK and Irish Horse Racing video, form, tips, odds and news  - fixtures\r\n",
        "\n"
       ]
      }
     ],
     "prompt_number": 91
    },
    {
     "cell_type": "code",
     "collapsed": false,
     "input": [
      "#l = soup.find_all('h5')\n",
      "meetings = [x.text for x in soup.find_all('h5')[2:] if wanted(x.text)]\n",
      "\n",
      "print meetings"
     ],
     "language": "python",
     "metadata": {},
     "outputs": [
      {
       "output_type": "stream",
       "stream": "stdout",
       "text": [
        "[u'Beverley', u'Brighton', u'Newcastle', u'Perth', u'Warwick']\n"
       ]
      }
     ],
     "prompt_number": 92
    },
    {
     "cell_type": "code",
     "collapsed": false,
     "input": [
      "m = [s.next.next.next.next for s in soup.find_all('h5')[2:]]\n",
      "\n",
      "race_meetings = [Meeting(x) for x in zip(meetings, m)]\n",
      "\n"
     ],
     "language": "python",
     "metadata": {},
     "outputs": [
      {
       "output_type": "stream",
       "stream": "stdout",
       "text": [
        "Link for each race: True\n",
        "Link for each race: True\n",
        "Link for each race: True\n",
        "Link for each race: True\n",
        "Link for each race: True\n"
       ]
      }
     ],
     "prompt_number": 93
    },
    {
     "cell_type": "markdown",
     "metadata": {},
     "source": [
      "# Race Meetings\n"
     ]
    },
    {
     "cell_type": "code",
     "collapsed": false,
     "input": [
      "for n,x in enumerate(race_meetings):\n",
      "    print n,x"
     ],
     "language": "python",
     "metadata": {},
     "outputs": [
      {
       "output_type": "stream",
       "stream": "stdout",
       "text": [
        "0 Beverley\n",
        "Course: Beverley Time: 13:55 Distance: 5f\n",
        "link: /card.aspx?raceid=813000&meetingid=65657&date=2014-04-24&ref=mainracenavigation&refsite=&nav=racecards\n",
        "Course: Beverley Time: 14:30 Distance: 7f 100y\n",
        "link: /card.aspx?raceid=813001&meetingid=65657&date=2014-04-24&ref=mainracenavigation&refsite=&nav=racecards\n",
        "Course: Beverley Time: 15:00 Distance: 7f 100y\n",
        "link: /card.aspx?raceid=813002&meetingid=65657&date=2014-04-24&ref=mainracenavigation&refsite=&nav=racecards\n",
        "Course: Beverley Time: 15:30 Distance: 1m 4f 16y\n",
        "link: /card.aspx?raceid=813003&meetingid=65657&date=2014-04-24&ref=mainracenavigation&refsite=&nav=racecards\n",
        "Course: Beverley Time: 16:00 Distance: 1m 1f 207y\n",
        "link: /card.aspx?raceid=813004&meetingid=65657&date=2014-04-24&ref=mainracenavigation&refsite=&nav=racecards\n",
        "Course: Beverley Time: 16:30 Distance: 1m 1f 207y\n",
        "link: /card.aspx?raceid=813005&meetingid=65657&date=2014-04-24&ref=mainracenavigation&refsite=&nav=racecards\n",
        "Course: Beverley Time: 17:00 Distance: 1m 100y\n",
        "link: /card.aspx?raceid=813006&meetingid=65657&date=2014-04-24&ref=mainracenavigation&refsite=&nav=racecards\n",
        "1 Brighton\n",
        "Course: Brighton Time: 16:50 Distance: 5f 59y\n",
        "link: /card.aspx?raceid=813013&meetingid=65659&date=2014-04-24&ref=mainracenavigation&refsite=&nav=racecards\n",
        "Course: Brighton Time: 17:25 Distance: 1m 1f 209y\n",
        "link: /card.aspx?raceid=813014&meetingid=65659&date=2014-04-24&ref=mainracenavigation&refsite=&nav=racecards\n",
        "Course: Brighton Time: 17:55 Distance: 7f 214y\n",
        "link: /card.aspx?raceid=813015&meetingid=65659&date=2014-04-24&ref=mainracenavigation&refsite=&nav=racecards\n",
        "Course: Brighton Time: 18:25 Distance: 7f 214y\n",
        "link: /card.aspx?raceid=813016&meetingid=65659&date=2014-04-24&ref=mainracenavigation&refsite=&nav=racecards\n",
        "Course: Brighton Time: 18:55 Distance: 6f 209y\n",
        "link: /card.aspx?raceid=813017&meetingid=65659&date=2014-04-24&ref=mainracenavigation&refsite=&nav=racecards\n",
        "Course: Brighton Time: 19:25 Distance: 6f 209y\n",
        "link: /card.aspx?raceid=813018&meetingid=65659&date=2014-04-24&ref=mainracenavigation&refsite=&nav=racecards\n",
        "Course: Brighton Time: 19:55 Distance: 5f 213y\n",
        "link: /card.aspx?raceid=813019&meetingid=65659&date=2014-04-24&ref=mainracenavigation&refsite=&nav=racecards\n",
        "2 Newcastle\n",
        "Course: Newcastle Time: 17:05 Distance: 5f\n",
        "link: /card.aspx?raceid=813020&meetingid=65660&date=2014-04-24&ref=mainracenavigation&refsite=&nav=racecards\n",
        "Course: Newcastle Time: 17:40 Distance: 5f\n",
        "link: /card.aspx?raceid=813021&meetingid=65660&date=2014-04-24&ref=mainracenavigation&refsite=&nav=racecards\n",
        "Course: Newcastle Time: 18:15 Distance: 6f\n",
        "link: /card.aspx?raceid=813022&meetingid=65660&date=2014-04-24&ref=mainracenavigation&refsite=&nav=racecards\n",
        "Course: Newcastle Time: 18:45 Distance: 1m\n",
        "link: /card.aspx?raceid=813023&meetingid=65660&date=2014-04-24&ref=mainracenavigation&refsite=&nav=racecards\n",
        "Course: Newcastle Time: 19:15 Distance: 1m 4f 93y\n",
        "link: /card.aspx?raceid=813024&meetingid=65660&date=2014-04-24&ref=mainracenavigation&refsite=&nav=racecards\n",
        "Course: Newcastle Time: 19:45 Distance: 1m 2f 32y\n",
        "link: /card.aspx?raceid=813025&meetingid=65660&date=2014-04-24&ref=mainracenavigation&refsite=&nav=racecards\n",
        "Course: Newcastle Time: 20:15 Distance: 5f\n",
        "link: /card.aspx?raceid=813026&meetingid=65660&date=2014-04-24&ref=mainracenavigation&refsite=&nav=racecards\n",
        "3 Perth\n",
        "Course: Perth Time: 14:20 Distance: 2m 110y\n",
        "link: /card.aspx?raceid=813027&meetingid=65661&date=2014-04-24&ref=mainracenavigation&refsite=&nav=racecards\n",
        "Course: Perth Time: 14:50 Distance: 2m 110y\n",
        "link: /card.aspx?raceid=813028&meetingid=65661&date=2014-04-24&ref=mainracenavigation&refsite=&nav=racecards\n",
        "Course: Perth Time: 15:20 Distance: 3m\n",
        "link: /card.aspx?raceid=813029&meetingid=65661&date=2014-04-24&ref=mainracenavigation&refsite=&nav=racecards\n",
        "Course: Perth Time: 15:50 Distance: 2m 4f 110y\n",
        "link: /card.aspx?raceid=813030&meetingid=65661&date=2014-04-24&ref=mainracenavigation&refsite=&nav=racecards\n",
        "Course: Perth Time: 16:20 Distance: 2m 4f 110y\n",
        "link: /card.aspx?raceid=813031&meetingid=65661&date=2014-04-24&ref=mainracenavigation&refsite=&nav=racecards\n",
        "Course: Perth Time: 16:55 Distance: 3m 2f 110y\n",
        "link: /card.aspx?raceid=813032&meetingid=65661&date=2014-04-24&ref=mainracenavigation&refsite=&nav=racecards\n",
        "Course: Perth Time: 17:30 Distance: 2m 4f 110y\n",
        "link: /card.aspx?raceid=813033&meetingid=65661&date=2014-04-24&ref=mainracenavigation&refsite=&nav=racecards\n",
        "4 Warwick\n",
        "Course: Warwick Time: 14:10 Distance: 6f\n",
        "link: /card.aspx?raceid=813515&meetingid=65658&date=2014-04-24&ref=mainracenavigation&refsite=&nav=racecards\n",
        "Course: Warwick Time: 14:40 Distance: 6f\n",
        "link: /card.aspx?raceid=813516&meetingid=65658&date=2014-04-24&ref=mainracenavigation&refsite=&nav=racecards\n",
        "Course: Warwick Time: 15:10 Distance: 6f\n",
        "link: /card.aspx?raceid=813517&meetingid=65658&date=2014-04-24&ref=mainracenavigation&refsite=&nav=racecards\n",
        "Course: Warwick Time: 15:40 Distance: 7f\n",
        "link: /card.aspx?raceid=813518&meetingid=65658&date=2014-04-24&ref=mainracenavigation&refsite=&nav=racecards\n",
        "Course: Warwick Time: 16:10 Distance: 7f\n",
        "link: /card.aspx?raceid=813519&meetingid=65658&date=2014-04-24&ref=mainracenavigation&refsite=&nav=racecards\n",
        "Course: Warwick Time: 16:40 Distance: 1m 20y\n",
        "link: /card.aspx?raceid=813520&meetingid=65658&date=2014-04-24&ref=mainracenavigation&refsite=&nav=racecards\n",
        "Course: Warwick Time: 17:15 Distance: 1m 20y\n",
        "link: /card.aspx?raceid=813521&meetingid=65658&date=2014-04-24&ref=mainracenavigation&refsite=&nav=racecards\n",
        "Course: Warwick Time: 17:45 Distance: 1m 20y\n",
        "link: /card.aspx?raceid=813522&meetingid=65658&date=2014-04-24&ref=mainracenavigation&refsite=&nav=racecards\n"
       ]
      }
     ],
     "prompt_number": 94
    },
    {
     "cell_type": "code",
     "collapsed": false,
     "input": [
      "l=  [x.get('href') for x in soup.find_all('a') if 'class' in x.attrs and x.get('href').startswith('/c')]\n",
      "\n",
      "#n = [x for x in l if x and x.startswith('/allc') or x.startswith('/card')]\n"
     ],
     "language": "python",
     "metadata": {},
     "outputs": [],
     "prompt_number": 95
    },
    {
     "cell_type": "code",
     "collapsed": false,
     "input": [
      "#race = soupify (l[7])\n",
      "\n",
      "r#ace = race_meetings"
     ],
     "language": "python",
     "metadata": {},
     "outputs": [
      {
       "ename": "TypeError",
       "evalue": "__init__() takes exactly 4 arguments (2 given)",
       "output_type": "pyerr",
       "traceback": [
        "\u001b[1;31m---------------------------------------------------------------------------\u001b[0m\n\u001b[1;31mTypeError\u001b[0m                                 Traceback (most recent call last)",
        "\u001b[1;32m<ipython-input-96-7cc6f26c8e40>\u001b[0m in \u001b[0;36m<module>\u001b[1;34m()\u001b[0m\n\u001b[0;32m      1\u001b[0m \u001b[1;31m#race = soupify (l[7])\u001b[0m\u001b[1;33m\u001b[0m\u001b[1;33m\u001b[0m\u001b[0m\n\u001b[0;32m      2\u001b[0m \u001b[1;33m\u001b[0m\u001b[0m\n\u001b[1;32m----> 3\u001b[1;33m \u001b[0mRace\u001b[0m\u001b[1;33m(\u001b[0m\u001b[0mrace_meetings\u001b[0m\u001b[1;33m[\u001b[0m\u001b[1;36m0\u001b[0m\u001b[1;33m]\u001b[0m\u001b[1;33m.\u001b[0m\u001b[0mdata\u001b[0m\u001b[1;33m)\u001b[0m\u001b[1;33m\u001b[0m\u001b[0m\n\u001b[0m",
        "\u001b[1;31mTypeError\u001b[0m: __init__() takes exactly 4 arguments (2 given)"
       ]
      }
     ],
     "prompt_number": 96
    },
    {
     "cell_type": "markdown",
     "metadata": {},
     "source": [
      "#Tests"
     ]
    },
    {
     "cell_type": "code",
     "collapsed": false,
     "input": [
      "print \"One link per race:\"\n",
      "#print len(race_data) == len(race_link)"
     ],
     "language": "python",
     "metadata": {},
     "outputs": []
    },
    {
     "cell_type": "code",
     "collapsed": false,
     "input": [
      "print len(all_races())"
     ],
     "language": "python",
     "metadata": {},
     "outputs": [
      {
       "output_type": "stream",
       "stream": "stdout",
       "text": [
        "36\n"
       ]
      }
     ],
     "prompt_number": 103
    },
    {
     "cell_type": "code",
     "collapsed": false,
     "input": [
      "print date"
     ],
     "language": "python",
     "metadata": {},
     "outputs": []
    }
   ],
   "metadata": {}
  }
 ]
}