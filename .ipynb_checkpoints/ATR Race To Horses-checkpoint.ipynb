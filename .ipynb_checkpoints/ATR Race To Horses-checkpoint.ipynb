{
 "metadata": {
  "name": "",
  "signature": "sha256:a1385b2f488fe31a9102a16a169dd2923c90752bac51db04f969ca611bbd5abd"
 },
 "nbformat": 3,
 "nbformat_minor": 0,
 "worksheets": [
  {
   "cells": [
    {
     "cell_type": "markdown",
     "metadata": {},
     "source": [
      "#Configuration"
     ]
    },
    {
     "cell_type": "code",
     "collapsed": false,
     "input": [
      "atr = \"http://www.attheraces.com\"\n",
      "\n",
      "# Beautiful Soup\n",
      "import lxml.etree\n",
      "import lxml.html\n",
      "import urllib2\n",
      "from bs4 import BeautifulSoup"
     ],
     "language": "python",
     "metadata": {},
     "outputs": [],
     "prompt_number": 47
    },
    {
     "cell_type": "markdown",
     "metadata": {},
     "source": [
      "#SQLite\n"
     ]
    },
    {
     "cell_type": "code",
     "collapsed": false,
     "input": [
      "from datetime import date\n",
      "from pony.orm import *\n",
      "\n",
      "db = Database(\"sqlite\", \"c:/pony/testdb1.2\", create_db=True)\n",
      "\n",
      "class RaceDay(db.Entity):\n",
      "    Date = PrimaryKey(date)\n",
      "    meetings = Set(\"Meeting\")\n",
      "\n",
      "class Course(db.Entity):\n",
      "    courseName = PrimaryKey(str)\n",
      "    course_distances = Set(\"CourseDistance\")\n",
      "    meetings = Set(\"Meeting\")\n",
      "    \n",
      "    @staticmethod\n",
      "    def find(name):\n",
      "        try:\n",
      "            c = Course[name]\n",
      "            return c\n",
      "        except:\n",
      "            c = Course(courseName = name)\n",
      "            commit()\n",
      "            return c\n",
      "\n",
      "class Distance(db.Entity):\n",
      "    Furlongs = PrimaryKey(int)\n",
      "    course_distances = Set(\"CourseDistance\")\n",
      "\n",
      "class CourseDistance(db.Entity):\n",
      "    course = Required(Course)\n",
      "    distance = Required(Distance)\n",
      "    PrimaryKey(course,distance)\n",
      "    races = Set(\"Race\")\n",
      "\n",
      "class Meeting(db.Entity):\n",
      "    race_day = Required(RaceDay)\n",
      "    course = Required(Course)\n",
      "    PrimaryKey(race_day, course)\n",
      "    races = Set(\"Race\")\n",
      "    ground = Optional(str)\n",
      "    \n",
      "    \n",
      "    @staticmethod\n",
      "    def find(rd, course):\n",
      "        try:\n",
      "            c = Meeting[rd, course]\n",
      "            return c\n",
      "        except:\n",
      "            c = Meeting(race_day = rd, course = course)\n",
      "            commit()\n",
      "            return c\n",
      "\n",
      "class Race(db.Entity):\n",
      "    meeting = Required(Meeting)\n",
      "    meeting_race_day = date\n",
      "    course_distance = Required(CourseDistance)\n",
      "    runners = Set(\"Runner\")\n",
      "\n",
      "class Runner(db.Entity):\n",
      "    race = Required(Race)\n",
      "    horse = Required(\"Horse\")\n",
      "    PrimaryKey(race,horse)\n",
      "    race_comment = Optional(\"RaceComment\")\n",
      "\n",
      "class Horse(db.Entity):\n",
      "    horseName = PrimaryKey(str, 20)\n",
      "    runners = Set(Runner)\n",
      "    horse_comment = Optional(\"HorseComment\")\n",
      "    comments = Set(\"Comment\")\n",
      "\n",
      "class User(db.Entity):\n",
      "    comments = Set(\"Comment\")\n",
      "\n",
      "class Comment(db.Entity):\n",
      "    user = Required(User)\n",
      "    horseName = Required(Horse)\n",
      "\n",
      "class RaceComment(db.Comment):\n",
      "    \n",
      "    runner = Required(Runner)\n",
      "\n",
      "class HorseComment(db.Comment):\n",
      "    horse = Required(Horse)\n",
      "\n",
      "sql_debug(True)\n",
      "db.generate_mapping(create_tables=True)"
     ],
     "language": "python",
     "metadata": {},
     "outputs": [
      {
       "output_type": "stream",
       "stream": "stdout",
       "text": [
        "GET NEW CONNECTION\n",
        "RELEASE CONNECTION\n",
        "GET CONNECTION FROM THE LOCAL POOL\n",
        "PRAGMA foreign_keys = false\n",
        "BEGIN IMMEDIATE TRANSACTION\n",
        "CREATE TABLE \"Course\" (\n",
        "  \"courseName\" TEXT NOT NULL PRIMARY KEY\n",
        ")\n",
        "\n",
        "CREATE TABLE \"Distance\" (\n",
        "  \"Furlongs\" INTEGER NOT NULL PRIMARY KEY\n",
        ")\n",
        "\n",
        "CREATE TABLE \"CourseDistance\" (\n",
        "  \"course\" TEXT NOT NULL REFERENCES \"Course\" (\"courseName\"),\n",
        "  \"distance\" INTEGER NOT NULL REFERENCES \"Distance\" (\"Furlongs\"),\n",
        "  PRIMARY KEY (\"course\", \"distance\")\n",
        ")\n",
        "\n",
        "CREATE INDEX \"idx_coursedistance__distance\" ON \"CourseDistance\" (\"distance\")\n",
        "\n",
        "CREATE TABLE \"RaceDay\" (\n",
        "  \"Date\" DATE NOT NULL PRIMARY KEY\n",
        ")\n",
        "\n",
        "CREATE TABLE \"Meeting\" (\n",
        "  \"race_day\" DATE NOT NULL REFERENCES \"RaceDay\" (\"Date\"),\n",
        "  \"course\" TEXT NOT NULL REFERENCES \"Course\" (\"courseName\"),\n",
        "  \"ground\" TEXT NOT NULL,\n",
        "  PRIMARY KEY (\"race_day\", \"course\")\n",
        ")\n",
        "\n",
        "CREATE INDEX \"idx_meeting__course\" ON \"Meeting\" (\"course\")\n",
        "\n",
        "CREATE TABLE \"Race\" (\n",
        "  \"id\" INTEGER PRIMARY KEY AUTOINCREMENT,\n",
        "  \"meeting_race_day\" DATE NOT NULL,\n",
        "  \"meeting_course\" TEXT NOT NULL,\n",
        "  \"course_distance_course\" TEXT NOT NULL,\n",
        "  \"course_distance_distance\" INTEGER NOT NULL,\n",
        "  FOREIGN KEY (\"course_distance_course\", \"course_distance_distance\") REFERENCES \"CourseDistance\" (\"course\", \"distance\"),\n",
        "  FOREIGN KEY (\"meeting_race_day\", \"meeting_course\") REFERENCES \"Meeting\" (\"race_day\", \"course\")\n",
        ")\n",
        "\n",
        "CREATE INDEX \"idx_race__course_distance_course_course_distance_distance\" ON \"Race\" (\"course_distance_course\", \"course_distance_distance\")\n",
        "\n",
        "CREATE INDEX \"idx_race__meeting_race_day_meeting_course\" ON \"Race\" (\"meeting_race_day\", \"meeting_course\")\n",
        "\n",
        "CREATE TABLE \"User\" (\n",
        "  \"id\" INTEGER PRIMARY KEY AUTOINCREMENT\n",
        ")\n",
        "\n",
        "CREATE TABLE \"Runner\" (\n",
        "  \"race\" INTEGER NOT NULL REFERENCES \"Race\" (\"id\"),\n",
        "  \"horse\" VARCHAR(20) NOT NULL REFERENCES \"Horse\" (\"horseName\"),\n",
        "  PRIMARY KEY (\"race\", \"horse\")\n",
        ")\n",
        "\n",
        "CREATE INDEX \"idx_runner__horse\" ON \"Runner\" (\"horse\")\n",
        "\n",
        "CREATE TABLE \"Horse\" (\n",
        "  \"horseName\" VARCHAR(20) NOT NULL PRIMARY KEY,\n",
        "  \"horse_comment\" INTEGER REFERENCES \"Comment\" (\"id\")\n",
        ")\n",
        "\n",
        "CREATE INDEX \"idx_horse__horse_comment\" ON \"Horse\" (\"horse_comment\")\n",
        "\n",
        "CREATE TABLE \"Comment\" (\n",
        "  \"id\" INTEGER PRIMARY KEY AUTOINCREMENT,\n",
        "  \"user\" INTEGER NOT NULL REFERENCES \"User\" (\"id\"),\n",
        "  \"horseName\" VARCHAR(20) NOT NULL REFERENCES \"Horse\" (\"horseName\"),\n",
        "  \"classtype\" TEXT NOT NULL,\n",
        "  \"runner_race\" INTEGER,\n",
        "  \"runner_horse\" VARCHAR(20),\n",
        "  \"horse\" VARCHAR(20) REFERENCES \"Horse\" (\"horseName\"),\n",
        "  FOREIGN KEY (\"runner_race\", \"runner_horse\") REFERENCES \"Runner\" (\"race\", \"horse\")\n",
        ")\n",
        "\n",
        "CREATE INDEX \"idx_comment__horse\" ON \"Comment\" (\"horse\")\n",
        "\n",
        "CREATE INDEX \"idx_comment__horsename\" ON \"Comment\" (\"horseName\")\n",
        "\n",
        "CREATE INDEX \"idx_comment__runner_race_runner_horse\" ON \"Comment\" (\"runner_race\", \"runner_horse\")\n",
        "\n",
        "CREATE INDEX \"idx_comment__user\" ON \"Comment\" (\"user\")\n",
        "\n",
        "SELECT \"Comment\".\"id\", \"Comment\".\"user\", \"Comment\".\"horseName\", \"Comment\".\"classtype\", \"Comment\".\"runner_race\", \"Comment\".\"runner_horse\", \"Comment\".\"horse\"\n",
        "FROM \"Comment\" \"Comment\"\n",
        "WHERE 0 = 1\n",
        "\n",
        "SELECT \"Course\".\"courseName\"\n",
        "FROM \"Course\" \"Course\"\n",
        "WHERE 0 = 1\n",
        "\n",
        "SELECT \"CourseDistance\".\"course\", \"CourseDistance\".\"distance\"\n",
        "FROM \"CourseDistance\" \"CourseDistance\"\n",
        "WHERE 0 = 1\n",
        "\n",
        "SELECT \"Distance\".\"Furlongs\"\n",
        "FROM \"Distance\" \"Distance\"\n",
        "WHERE 0 = 1\n",
        "\n",
        "SELECT \"Horse\".\"horseName\", \"Horse\".\"horse_comment\"\n",
        "FROM \"Horse\" \"Horse\"\n",
        "WHERE 0 = 1\n",
        "\n",
        "SELECT \"Meeting\".\"race_day\", \"Meeting\".\"course\", \"Meeting\".\"ground\"\n",
        "FROM \"Meeting\" \"Meeting\"\n",
        "WHERE 0 = 1\n",
        "\n",
        "SELECT \"Race\".\"id\", \"Race\".\"meeting_race_day\", \"Race\".\"meeting_course\", \"Race\".\"course_distance_course\", \"Race\".\"course_distance_distance\"\n",
        "FROM \"Race\" \"Race\"\n",
        "WHERE 0 = 1\n",
        "\n",
        "SELECT \"RaceDay\".\"Date\"\n",
        "FROM \"RaceDay\" \"RaceDay\"\n",
        "WHERE 0 = 1\n",
        "\n",
        "SELECT \"Runner\".\"race\", \"Runner\".\"horse\"\n",
        "FROM \"Runner\" \"Runner\"\n",
        "WHERE 0 = 1\n",
        "\n",
        "SELECT \"User\".\"id\"\n",
        "FROM \"User\" \"User\"\n",
        "WHERE 0 = 1\n",
        "\n",
        "COMMIT\n",
        "PRAGMA foreign_keys = true"
       ]
      },
      {
       "output_type": "stream",
       "stream": "stdout",
       "text": [
        "\n",
        "CLOSE CONNECTION\n"
       ]
      }
     ],
     "prompt_number": 48
    },
    {
     "cell_type": "markdown",
     "metadata": {},
     "source": [
      "#Objects\n",
      "###Race"
     ]
    },
    {
     "cell_type": "code",
     "collapsed": false,
     "input": [
      "class ATRRace(object):\n",
      "    \n",
      "    def __init__(self):\n",
      "        self.soups = None\n",
      "        self.meeting = 'Beverley'\n",
      "        # data = 17:05 - 5f \n",
      "        # link = /card.aspx?raceid=813020&meetingid=65660&date=2014-04-24&ref=mainracenavigation&refsite=&nav=racecards\n",
      "        # http://www.attheraces.com/card.aspx?raceid=813636&meetingid=65728&date=2014-04-28&ref=fixtures&refsite=&nav=racecards\n",
      "        \n",
      "        self.time = \"13:55\"\n",
      "        self.distance = \"5f\"\n",
      "        self.link = \"/card.aspx?raceid=839893&meetingid=68773&date=2014-09-15&ref=fixtures&refsite=&nav=racecards\"\n",
      "        #print \"Link for each race:\", len(race_data) == len(race_link)\n",
      "        \n",
      "    def soup(self):\n",
      "        if self.soups:\n",
      "            print \"oops\"\n",
      "            return self.soups\n",
      "        else:\n",
      "            address = atr + self.link\n",
      "            url = urllib2.urlopen(address)\n",
      "            content = url.read()\n",
      "            self.soups = BeautifulSoup(content)\n",
      "            return self.soups\n",
      "            \n",
      "        \n",
      "    def __str__(self):\n",
      "        s =\"Course: \" + self.meeting.course + \" Time: \" + self.time + \" Distance: \" + self.distance + \"\\nlink: \" + self.link\n",
      "        return s"
     ],
     "language": "python",
     "metadata": {},
     "outputs": [],
     "prompt_number": 49
    },
    {
     "cell_type": "markdown",
     "metadata": {},
     "source": [
      "#Code\n",
      "#### Find Race Name and Course"
     ]
    },
    {
     "cell_type": "code",
     "collapsed": false,
     "input": [
      "race = ATRRace()"
     ],
     "language": "python",
     "metadata": {},
     "outputs": [],
     "prompt_number": 50
    },
    {
     "cell_type": "code",
     "collapsed": false,
     "input": [
      "soup = race.soup()"
     ],
     "language": "python",
     "metadata": {},
     "outputs": [],
     "prompt_number": 51
    },
    {
     "cell_type": "markdown",
     "metadata": {},
     "source": [
      "1. have date create RaceDay"
     ]
    },
    {
     "cell_type": "code",
     "collapsed": false,
     "input": [
      "import time    \n",
      "\n",
      "today = time.strftime('%Y-%m-%d')\n",
      "print today\n",
      "\n",
      "rd = RaceDay(Date = today)\n"
     ],
     "language": "python",
     "metadata": {},
     "outputs": [
      {
       "output_type": "stream",
       "stream": "stdout",
       "text": [
        "2014-09-14\n"
       ]
      }
     ],
     "prompt_number": 52
    },
    {
     "cell_type": "code",
     "collapsed": false,
     "input": [
      "commit()\n"
     ],
     "language": "python",
     "metadata": {},
     "outputs": [
      {
       "output_type": "stream",
       "stream": "stdout",
       "text": [
        "GET NEW CONNECTION\n",
        "BEGIN IMMEDIATE TRANSACTION\n",
        "INSERT INTO \"RaceDay\" (\"Date\") VALUES (?)\n",
        "['2014-09-14']\n",
        "\n",
        "COMMIT\n"
       ]
      }
     ],
     "prompt_number": 53
    },
    {
     "cell_type": "code",
     "collapsed": false,
     "input": [
      "h3 = soup.findAll('h3')\n",
      "for h in h3:\n",
      "    print \"--\",h.text\n",
      "    \n",
      "time, courseName = h3[1].text.split(',')[0].split(\" \")\n",
      "dist = h3[2].text\n",
      "print time, courseName"
     ],
     "language": "python",
     "metadata": {},
     "outputs": [
      {
       "output_type": "stream",
       "stream": "stdout",
       "text": [
        "-- Please enable JavaScript to login to At The Races Need further assistance?\n",
        "-- 16:20 Brighton,\r\n",
        "    15 Sep 2014\n",
        "-- 6f 209y\n",
        "16:20 Brighton\n"
       ]
      }
     ],
     "prompt_number": 54
    },
    {
     "cell_type": "markdown",
     "metadata": {},
     "source": [
      "2. Find Course\n",
      "3. Find Meeting"
     ]
    },
    {
     "cell_type": "code",
     "collapsed": false,
     "input": [
      "\n",
      "c = Course.find(courseName)\n",
      "print c\n",
      "\n",
      "m = Meeting.find(rd.Date, c)\n",
      "print m\n"
     ],
     "language": "python",
     "metadata": {},
     "outputs": [
      {
       "output_type": "stream",
       "stream": "stdout",
       "text": [
        "BEGIN IMMEDIATE TRANSACTION\n",
        "SELECT \"courseName\"\n",
        "FROM \"Course\"\n",
        "WHERE \"courseName\" = ?\n",
        "[u'Brighton']\n",
        "\n",
        "INSERT INTO \"Course\" (\"courseName\") VALUES (?)\n",
        "[u'Brighton']\n",
        "\n",
        "COMMIT\n",
        "Course['Brighton']"
       ]
      },
      {
       "output_type": "stream",
       "stream": "stdout",
       "text": [
        "\n",
        "BEGIN IMMEDIATE TRANSACTION\n",
        "SELECT \"race_day\", \"course\", \"ground\"\n",
        "FROM \"Meeting\"\n",
        "WHERE \"course\" = ?\n",
        "  AND \"race_day\" = ?\n",
        "[u'Brighton', '2014-09-14']\n",
        "\n",
        "INSERT INTO \"Meeting\" (\"race_day\", \"course\", \"ground\") VALUES (?, ?, ?)\n",
        "['2014-09-14', u'Brighton', u'']\n",
        "\n",
        "COMMIT\n",
        "Meeting[RaceDay[datetime.date(2014, 9, 14)],Course['Brighton']]"
       ]
      },
      {
       "output_type": "stream",
       "stream": "stdout",
       "text": [
        "\n"
       ]
      }
     ],
     "prompt_number": 55
    },
    {
     "cell_type": "markdown",
     "metadata": {},
     "source": [
      "4. Distance - convert 1m 5f"
     ]
    },
    {
     "cell_type": "code",
     "collapsed": false,
     "input": [
      "def convertDistance(string):\n",
      "    furlongs = 0\n",
      "    \n",
      "    tokens = string.split()\n",
      "    \n",
      "    if len(tokens) > 1:\n",
      "        furlongs = furlongs + 8*int(tokens[0][0])\n",
      "        \n",
      "    return furlongs + int(tokens[-1][0])\n",
      "\n",
      "print convertDistance(\"1m 5f\")\n",
      "print convertDistance(\"5f\")\n",
      "    \n",
      "distance = convertDistance(dist)\n",
      "\n",
      "print d\n",
      "\n",
      "d = Distance(Furlongs = distance)\n"
     ],
     "language": "python",
     "metadata": {},
     "outputs": [
      {
       "output_type": "stream",
       "stream": "stdout",
       "text": [
        "13\n",
        "5\n",
        "Distance[5]\n"
       ]
      }
     ],
     "prompt_number": 56
    },
    {
     "cell_type": "code",
     "collapsed": false,
     "input": [
      "cd = CourseDistance(course = c, distance = d)"
     ],
     "language": "python",
     "metadata": {},
     "outputs": [],
     "prompt_number": 57
    },
    {
     "cell_type": "markdown",
     "metadata": {},
     "source": [
      "1. Get second table\n",
      "2. Get table head\n"
     ]
    },
    {
     "cell_type": "code",
     "collapsed": false,
     "input": [
      "table = soup.findAll(\"table\")[1]\n",
      "print table.find(\"thead\")"
     ],
     "language": "python",
     "metadata": {},
     "outputs": [
      {
       "output_type": "stream",
       "stream": "stdout",
       "text": [
        "<thead>\n",
        "<tr>\n",
        "<th class=\"tooltip\" title=\"Horse Number (Draw Number)\" width=\"44\">No/Drw<br/><img alt=\"\" height=\"1\" src=\"/images/spacer.gif\" width=\"44\"/></th>\n",
        "<th class=\"tooltip\" title=\"The jacket and cap worn by the jockey. Silks can be generic and provided by the track or specific to one owner\" width=\"44\">Silk<br/><img alt=\"\" height=\"1\" src=\"/images/spacer.gif\" width=\"44\"/></th>\n",
        "<th class=\"tooltip\" title=\"How the horse performed in it's previous outings, most recent on the right: Number=Position, F=Fell, P=Pulled Up, U=Unseated Rider,B=Brought Down,R=Refused,C=Carried Out,S=Slipped Up,/=Over A Year Between Races, -=New Season\" width=\"45\">Form<br/><img alt=\"\" height=\"1\" src=\"/images/spacer.gif\" width=\"45\"/></th>\n",
        "<th class=\"tooltip\" title=\"Name of horse / (breeding) if outside race country / any extra weight for recent win / days since last ran / C=won on this course, D=won at this distance, CD=won at this course and this distance, BF=beaten favourite last time out\" width=\"100%\">Horse</th>\n",
        "<th class=\"tooltip\" title=\"Age of horse / Weight carrying in stones and lbs / h=hood, v=visor, b=blinkers, es=eyeshield, ec=eyecover, t=tonguestrap, p=cheek pieces, 1=worn for first time\" width=\"60\">Age / Wt<br/><img alt=\"\" height=\"1\" src=\"/images/spacer.gif\" width=\"60\"/></th>\n",
        "<th class=\"tooltip\" title=\"Jockey / Trainer\" width=\"104\">Jockey / Trainer<br/><img alt=\"\" height=\"1\" src=\"/images/spacer.gif\" width=\"104\"/></th>\n",
        "<th class=\"tooltip\" title=\"Official Rating\" width=\"30\">OR</th>\n",
        "</tr>\n",
        "</thead>\n"
       ]
      }
     ],
     "prompt_number": 58
    },
    {
     "cell_type": "markdown",
     "metadata": {},
     "source": [
      "1. Get each horse by finding tr in tbody\n",
      "2. There are 2 rows: horse data andtimeform"
     ]
    },
    {
     "cell_type": "code",
     "collapsed": false,
     "input": [
      "tbody = table.find(\"tbody\")\n",
      "trows = tbody.findAll(\"tr\")\n",
      "horsenames = [row.find(\"span\", { \"class\" : \"horsename\" }).text for row in trows[::2]]\n",
      "\n",
      "\n",
      "'''for row in trows:\n",
      "    print \"NEW ROW\"\n",
      "    print row\n",
      "    print \"\\n\\n\\n\"'''\n",
      "\n",
      "print horsenames"
     ],
     "language": "python",
     "metadata": {},
     "outputs": [
      {
       "output_type": "stream",
       "stream": "stdout",
       "text": [
        "[u'Inkerman', u'Lionheart', u'Uprise', u'Summer Dancer', u'Hawk Moth', u'Berkeley Vale', u'Pour La Victoire', u'Just Isla', u'Tubeanie', u\"It's Taboo\", u'Burnhope', u'Commandingpresence', u'Stonecrabstomorrow', u'High On The Hog']\n"
       ]
      }
     ],
     "prompt_number": 76
    },
    {
     "cell_type": "code",
     "collapsed": false,
     "input": [
      "l =  [x for x in soup.find_all('tr') if x.has_attr('class')]\n",
      "\n",
      "\n",
      "print l[1]\n",
      "\n"
     ],
     "language": "python",
     "metadata": {},
     "outputs": [
      {
       "output_type": "stream",
       "stream": "stdout",
       "text": [
        "<tr class=\"\">\n",
        "<td class=\" cloth\"><span class=\"number draw\">1<em>(9)</em></span><div class=\"icons\"><a class=\"summary tooltip\" href=\"#\" title=\"&lt;div class='longtext'&gt;Placed in seven of 13 starts. Third of 11 behind Admirable Art beaten 1 3/4l at 3-1fav on his latest outing at Chepstow over 1m (good to soft) earlier this month.&lt;/div&gt;\">i</a><a class=\"timeform tooltip\" href=\"#\" title=\"&lt;div class='longtext'&gt;&lt;strong&gt;Timeform says&lt;/strong&gt;: Remains a maiden and not running as well as form figures suggest, twice beaten in selling company in recent weeks. Handicapper has at least given him a chance. &lt;span class=&quot;tfstarrating&quot;&gt;Star Rating &lt;img src=&quot;/images/racecards/star_3.gif&quot; alt=&quot;&quot;/&gt;&lt;/span&gt;&lt;/div&gt;\">T</a></div>\n",
        "</td>\n",
        "<td class=\"silk\"><img alt=\"Yellow, emerald green star, white sleeves, yellow cap, emerald green star\" src=\"/images/silks/20140915/20140915bgh162001.png\"/></td>\n",
        "<td>662523<br/><a class=\"full_form\" href=\"/form.aspx?id=2767750&amp;ref=cardmain&amp;dte=2014-09-14&amp;refsite=atr\" onclick=\"OpenWindow(this.href,836,550,'','no','FormPopup');return false;\" target=\"_blank\">Full form</a></td>\n",
        "<td class=\"horse\"><a class=\"tooltip\" href=\"/form.aspx?id=2767750&amp;ref=cardmain&amp;dte=2014-09-14&amp;refsite=atr\" onclick=\"OpenWindow(this.href,836,550,'','no','FormPopup');return false;\" target=\"FormWin\" title=\"click for Inkerman form\"><span class=\"horsename\">Inkerman</span></a>\r\n",
        "            (IRE)\r\n",
        "           10\u00a0<span class=\"tooltip racestat\" title=\"Beaten favourite last time out\">BF</span><a class=\"tracker_popup\" href=\"#\" id=\"trid2767750\" title=\"Inkerman\">ATR Tracker</a><br/><span class=\"horseextrawrap\"><span class=\"horseinfoicons\"></span>b\u00a0g\u00a0Duke Of Marmalade\u00a0-\u00a0Lady Taufan\u00a0(Taufan)</span></td>\n",
        "<td>4\u00a09 - 9tp</td>\n",
        "<td>\n",
        "<ul>\n",
        "<li class=\"jockey\"><a class=\"tooltip\" href=\"/form.aspx?id=1245409&amp;ref=cardmain&amp;dte=2014-09-14&amp;refsite=atr&amp;type=J\n",
        "    \" onclick=\"OpenWindow(this.href,836,550,'','no','FormPopup');return false;\" target=\"FormWin\" title=\"click for G Baker form\">G Baker</a></li>\n",
        "<li class=\"trainer\"><a class=\"tooltip\" href=\"/form.aspx?id=1000746&amp;ref=cardmain&amp;dte=2014-09-14&amp;refsite=atr&amp;type=T\n",
        "    \" onclick=\"OpenWindow(this.href,836,550,'','no','FormPopup');return false;\" target=\"FormWin\" title=\"click for J A Osborne form\">J A Osborne</a></li>\n",
        "</ul>\n",
        "</td>\n",
        "<td class=\"OR\">65</td>\n",
        "</tr>\n"
       ]
      }
     ],
     "prompt_number": 64
    },
    {
     "cell_type": "code",
     "collapsed": false,
     "input": [
      "mydivs = soup.findAll(\"tr\", { \"class\" : \"reviewtimeform\" })\n",
      "print mydivs"
     ],
     "language": "python",
     "metadata": {},
     "outputs": [
      {
       "output_type": "stream",
       "stream": "stdout",
       "text": [
        "[<tr class=\"reviewtimeform\">\n",
        "<td colspan=\"8\"><strong>Timeform says</strong>: Remains a maiden and not running as well as form figures suggest, twice beaten in selling company in recent weeks. Handicapper has at least given him a chance.<br/><span class=\"tfstarrating\">Star Rating <img alt=\"\" src=\"/images/racecards/star_3.gif\"/></span></td>\n",
        "</tr>, <tr class=\"reviewtimeform\">\n",
        "<td colspan=\"8\"><strong>Timeform says</strong>: Well below his best in recent months, new headgear failing to spark a revival at Epsom last week.<br/><span class=\"tfstarrating\">Star Rating <img alt=\"\" src=\"/images/racecards/star_3.gif\"/></span></td>\n",
        "</tr>, <tr class=\"reviewtimeform\">\n",
        "<td colspan=\"8\"><strong>Timeform says</strong>: Latest win at Yarmouth in June over 6f, but hasn't come close to matching that form since and experiment with a hood quickly shelved.<br/><span class=\"tfstarrating\">Star Rating <img alt=\"\" src=\"/images/racecards/star_3.gif\"/></span></td>\n",
        "</tr>, <tr class=\"reviewtimeform\">\n",
        "<td colspan=\"8\"><strong>Timeform says</strong>: Musselburgh winner over this trip for Paul Midgely a year ago, but not at the top of his game both starts for current yard after a lay-off.<br/><span class=\"tfstarrating\">Star Rating <img alt=\"\" src=\"/images/racecards/star_3.gif\"/></span></td>\n",
        "</tr>, <tr class=\"reviewtimeform\">\n",
        "<td colspan=\"8\"><strong>Timeform says</strong>: Back in the winning groove at Lingfield in July and has remained in good form since, going in again over this C&amp;D a month ago prior to a sound runner-up effort. Should remain competitive.<br/><span class=\"tfstarrating\">Star Rating <img alt=\"\" src=\"/images/racecards/star_3.gif\"/></span></td>\n",
        "</tr>, <tr class=\"reviewtimeform\">\n",
        "<td colspan=\"8\"><strong>Timeform says</strong>: Lightly-raced maiden. Fourth both starts in 7f handicaps following an absence, but more needed to get off the mark.<br/><span class=\"tfstarrating\">Star Rating <img alt=\"\" src=\"/images/racecards/star_3.gif\"/></span></td>\n",
        "</tr>, <tr class=\"reviewtimeform\">\n",
        "<td colspan=\"8\"><strong>Timeform says</strong>: Back in the winning groove when landing a minor event here (1m, good to soft) in April. Hit the crossbar over the same C&amp;D 6 days later and recent third after a break at Chepstow another sound run.<br/><span class=\"tfstarrating\">Star Rating <img alt=\"\" src=\"/images/racecards/star_5.gif\"/></span></td>\n",
        "</tr>, <tr class=\"reviewtimeform\">\n",
        "<td colspan=\"8\"><strong>Timeform says</strong>: Successful 3 times over 7f in 2013 (twice here) and has found the frame on her last 4 visits to this venue, her keeping-on second over 6f this month a good effort.<br/><span class=\"tfstarrating\">Star Rating <img alt=\"\" src=\"/images/racecards/star_4.gif\"/></span></td>\n",
        "</tr>, <tr class=\"reviewtimeform\">\n",
        "<td colspan=\"8\"><strong>Timeform says</strong>: Modest maiden for Clive Cox who stepped up on debut for this yard when runner-up over this trip at Yarmouth last month. Of interest from an unchanged mark.<br/><span class=\"tfstarrating\">Star Rating <img alt=\"\" src=\"/images/racecards/star_4.gif\"/></span></td>\n",
        "</tr>, <tr class=\"reviewtimeform\">\n",
        "<td colspan=\"8\"><strong>Timeform says</strong>: Finally shed her maiden tag at Ffos Las (6f) a year ago, but has found life tougher back in handicaps since.<br/><span class=\"tfstarrating\">Star Rating <img alt=\"\" src=\"/images/racecards/star_2.gif\"/></span></td>\n",
        "</tr>, <tr class=\"reviewtimeform\">\n",
        "<td colspan=\"8\"><strong>Timeform says</strong>: Slipped a long way in the weights, and more like it when third of 12 at leicester in July. Well positioned that day, and finds stringing performances together tough.<br/><span class=\"tfstarrating\">Star Rating <img alt=\"\" src=\"/images/racecards/star_3.gif\"/></span></td>\n",
        "</tr>, <tr class=\"reviewtimeform\">\n",
        "<td colspan=\"8\"><strong>Timeform says</strong>: On a long losing run, weakening out of things over 6f here 2 weeks ago, so not hard to look elsewhere.<br/><span class=\"tfstarrating\">Star Rating <img alt=\"\" src=\"/images/racecards/star_2.gif\"/></span></td>\n",
        "</tr>, <tr class=\"reviewtimeform\">\n",
        "<td colspan=\"8\"><strong>Timeform says</strong>: Veteran who has won 4 times at this track. Signs of a revival here of late, but others more persuasive at this stage of his career.<br/><span class=\"tfstarrating\">Star Rating <img alt=\"\" src=\"/images/racecards/star_3.gif\"/></span></td>\n",
        "</tr>, <tr class=\"reviewtimeform\">\n",
        "<td colspan=\"8\"><strong>Timeform says</strong>: Just the one win from 43 starts, which was a soft-ground C&amp;D handicap over 3 years ago. Runner-up at Leicester in July, but not in same frm here last month and is 5 lb wrong.<br/><span class=\"tfstarrating\">Star Rating <img alt=\"\" src=\"/images/racecards/star_2.gif\"/></span></td>\n",
        "</tr>]\n"
       ]
      }
     ],
     "prompt_number": 61
    },
    {
     "cell_type": "code",
     "collapsed": false,
     "input": [
      "for tr, x in enumerate(mydivs):\n",
      "    print tr, \"---------------\", x.text\n",
      "    print x.find(\"img\")\n",
      "    print str(x.find(\"img\"))[40]"
     ],
     "language": "python",
     "metadata": {},
     "outputs": [
      {
       "output_type": "stream",
       "stream": "stdout",
       "text": [
        "0 --------------- \n",
        "Timeform says: Remains a maiden and not running as well as form figures suggest, twice beaten in selling company in recent weeks. Handicapper has at least given him a chance.Star Rating \n",
        "\n",
        "<img alt=\"\" src=\"/images/racecards/star_3.gif\"/>\n",
        "3\n",
        "1 --------------- \n",
        "Timeform says: Well below his best in recent months, new headgear failing to spark a revival at Epsom last week.Star Rating \n",
        "\n",
        "<img alt=\"\" src=\"/images/racecards/star_3.gif\"/>\n",
        "3\n",
        "2 --------------- \n",
        "Timeform says: Latest win at Yarmouth in June over 6f, but hasn't come close to matching that form since and experiment with a hood quickly shelved.Star Rating \n",
        "\n",
        "<img alt=\"\" src=\"/images/racecards/star_3.gif\"/>\n",
        "3\n",
        "3 --------------- \n",
        "Timeform says: Musselburgh winner over this trip for Paul Midgely a year ago, but not at the top of his game both starts for current yard after a lay-off.Star Rating \n",
        "\n",
        "<img alt=\"\" src=\"/images/racecards/star_3.gif\"/>\n",
        "3\n",
        "4 --------------- \n",
        "Timeform says: Back in the winning groove at Lingfield in July and has remained in good form since, going in again over this C&D a month ago prior to a sound runner-up effort. Should remain competitive.Star Rating \n",
        "\n",
        "<img alt=\"\" src=\"/images/racecards/star_3.gif\"/>\n",
        "3\n",
        "5 --------------- \n",
        "Timeform says: Lightly-raced maiden. Fourth both starts in 7f handicaps following an absence, but more needed to get off the mark.Star Rating \n",
        "\n",
        "<img alt=\"\" src=\"/images/racecards/star_3.gif\"/>\n",
        "3\n",
        "6 --------------- \n",
        "Timeform says: Back in the winning groove when landing a minor event here (1m, good to soft) in April. Hit the crossbar over the same C&D 6 days later and recent third after a break at Chepstow another sound run.Star Rating \n",
        "\n",
        "<img alt=\"\" src=\"/images/racecards/star_5.gif\"/>\n",
        "5\n",
        "7 --------------- \n",
        "Timeform says: Successful 3 times over 7f in 2013 (twice here) and has found the frame on her last 4 visits to this venue, her keeping-on second over 6f this month a good effort.Star Rating \n",
        "\n",
        "<img alt=\"\" src=\"/images/racecards/star_4.gif\"/>\n",
        "4\n",
        "8 --------------- \n",
        "Timeform says: Modest maiden for Clive Cox who stepped up on debut for this yard when runner-up over this trip at Yarmouth last month. Of interest from an unchanged mark.Star Rating \n",
        "\n",
        "<img alt=\"\" src=\"/images/racecards/star_4.gif\"/>\n",
        "4\n",
        "9 --------------- \n",
        "Timeform says: Finally shed her maiden tag at Ffos Las (6f) a year ago, but has found life tougher back in handicaps since.Star Rating \n",
        "\n",
        "<img alt=\"\" src=\"/images/racecards/star_2.gif\"/>\n",
        "2\n",
        "10 --------------- \n",
        "Timeform says: Slipped a long way in the weights, and more like it when third of 12 at leicester in July. Well positioned that day, and finds stringing performances together tough.Star Rating \n",
        "\n",
        "<img alt=\"\" src=\"/images/racecards/star_3.gif\"/>\n",
        "3\n",
        "11 --------------- \n",
        "Timeform says: On a long losing run, weakening out of things over 6f here 2 weeks ago, so not hard to look elsewhere.Star Rating \n",
        "\n",
        "<img alt=\"\" src=\"/images/racecards/star_2.gif\"/>\n",
        "2\n",
        "12 --------------- \n",
        "Timeform says: Veteran who has won 4 times at this track. Signs of a revival here of late, but others more persuasive at this stage of his career.Star Rating \n",
        "\n",
        "<img alt=\"\" src=\"/images/racecards/star_3.gif\"/>\n",
        "3\n",
        "13 --------------- \n",
        "Timeform says: Just the one win from 43 starts, which was a soft-ground C&D handicap over 3 years ago. Runner-up at Leicester in July, but not in same frm here last month and is 5 lb wrong.Star Rating \n",
        "\n",
        "<img alt=\"\" src=\"/images/racecards/star_2.gif\"/>\n",
        "2\n"
       ]
      }
     ],
     "prompt_number": 81
    }
   ],
   "metadata": {}
  }
 ]
}