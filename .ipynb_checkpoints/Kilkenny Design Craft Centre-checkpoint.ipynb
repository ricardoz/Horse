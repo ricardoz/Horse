{
 "metadata": {
  "name": ""
 },
 "nbformat": 3,
 "nbformat_minor": 0,
 "worksheets": [
  {
   "cells": [
    {
     "cell_type": "code",
     "collapsed": false,
     "input": [
      "# Beautiful Soup\n",
      "import lxml.etree\n",
      "import lxml.html\n",
      "import urllib2\n",
      "from bs4 import BeautifulSoup"
     ],
     "language": "python",
     "metadata": {},
     "outputs": [],
     "prompt_number": 36
    },
    {
     "cell_type": "code",
     "collapsed": false,
     "input": [
      "def soupify(url):\n",
      "    address = url\n",
      "    url = urllib2.urlopen(address)\n",
      "    content = url.read()\n",
      "    return BeautifulSoup(content)\n",
      "\n",
      "def show(_list):\n",
      "    for number, item in enumerate(_list):\n",
      "        print number, \":\", item"
     ],
     "language": "python",
     "metadata": {},
     "outputs": [],
     "prompt_number": 37
    },
    {
     "cell_type": "code",
     "collapsed": false,
     "input": [
      "kdcc = soupify('http://www.kilkennydesign.com/Default.aspx')"
     ],
     "language": "python",
     "metadata": {},
     "outputs": [],
     "prompt_number": 38
    },
    {
     "cell_type": "markdown",
     "metadata": {},
     "source": [
      "## Objects"
     ]
    },
    {
     "cell_type": "code",
     "collapsed": false,
     "input": [
      "class Item(object):\n",
      "    \"\"\"Name and Price of Items for sale in KDC\"\"\"\n",
      "    def __init__(self, parent, name, price, *args):\n",
      "        self.name = name\n",
      "        self.price = price\n",
      "        \n",
      "    def __str__(self):\n",
      "        print \"in str\"\n",
      "        return \"name: {0}, price: {1}\".format(self.name, self.price)\n",
      "        \n",
      "    \n",
      "class Category(object):\n",
      "    \n",
      "    \n",
      "    def __init__(self, name, url):\n",
      "        self.categories = []\n",
      "        pass\n",
      "    \n",
      "KDC = Category(\"KDC\", kdcc)\n",
      "\n",
      "def itemize(url):\n",
      "    \"\"\"takes a URL and finds the itrms on a page\"\"\"\n",
      "    soup = soupify(url)\n",
      "    \n",
      "    items = soup.find_all(\"div\", {'class':'ProductItem'})\n",
      "    \n",
      "    token_list = [x.text.split(\"\\n\") for x in items]\n",
      "    \n",
      "    a =[]\n",
      "    for t in token_list:\n",
      "        a.append([w for w in t if w])\n",
      "        \n",
      "    \n",
      "    \n",
      "    return [Item(KDC, *i) for i in a] \n",
      "        \n",
      "    \n",
      "it = itemize('http://www.kilkennydesign.com/Category/202-foxford-woollen-mills.aspx')\n",
      "show (it)"
     ],
     "language": "python",
     "metadata": {},
     "outputs": [
      {
       "ename": "UnicodeEncodeError",
       "evalue": "'ascii' codec can't encode character u'\\u20ac' in position 0: ordinal not in range(128)",
       "output_type": "pyerr",
       "traceback": [
        "\u001b[1;31m---------------------------------------------------------------------------\u001b[0m\n\u001b[1;31mUnicodeEncodeError\u001b[0m                        Traceback (most recent call last)",
        "\u001b[1;32m<ipython-input-52-0ccb91b1d8ef>\u001b[0m in \u001b[0;36m<module>\u001b[1;34m()\u001b[0m\n\u001b[0;32m     37\u001b[0m \u001b[1;33m\u001b[0m\u001b[0m\n\u001b[0;32m     38\u001b[0m \u001b[0mit\u001b[0m \u001b[1;33m=\u001b[0m \u001b[0mitemize\u001b[0m\u001b[1;33m(\u001b[0m\u001b[1;34m'http://www.kilkennydesign.com/Category/202-foxford-woollen-mills.aspx'\u001b[0m\u001b[1;33m)\u001b[0m\u001b[1;33m\u001b[0m\u001b[0m\n\u001b[1;32m---> 39\u001b[1;33m \u001b[0mshow\u001b[0m \u001b[1;33m(\u001b[0m\u001b[0mit\u001b[0m\u001b[1;33m)\u001b[0m\u001b[1;33m\u001b[0m\u001b[0m\n\u001b[0m",
        "\u001b[1;32m<ipython-input-37-b1b2a29c1cdc>\u001b[0m in \u001b[0;36mshow\u001b[1;34m(_list)\u001b[0m\n\u001b[0;32m      7\u001b[0m \u001b[1;32mdef\u001b[0m \u001b[0mshow\u001b[0m\u001b[1;33m(\u001b[0m\u001b[0m_list\u001b[0m\u001b[1;33m)\u001b[0m\u001b[1;33m:\u001b[0m\u001b[1;33m\u001b[0m\u001b[0m\n\u001b[0;32m      8\u001b[0m     \u001b[1;32mfor\u001b[0m \u001b[0mnumber\u001b[0m\u001b[1;33m,\u001b[0m \u001b[0mitem\u001b[0m \u001b[1;32min\u001b[0m \u001b[0menumerate\u001b[0m\u001b[1;33m(\u001b[0m\u001b[0m_list\u001b[0m\u001b[1;33m)\u001b[0m\u001b[1;33m:\u001b[0m\u001b[1;33m\u001b[0m\u001b[0m\n\u001b[1;32m----> 9\u001b[1;33m         \u001b[1;32mprint\u001b[0m \u001b[0mnumber\u001b[0m\u001b[1;33m,\u001b[0m \u001b[1;34m\":\"\u001b[0m\u001b[1;33m,\u001b[0m \u001b[0mitem\u001b[0m\u001b[1;33m\u001b[0m\u001b[0m\n\u001b[0m",
        "\u001b[1;32m<ipython-input-52-0ccb91b1d8ef>\u001b[0m in \u001b[0;36m__str__\u001b[1;34m(self)\u001b[0m\n\u001b[0;32m      7\u001b[0m     \u001b[1;32mdef\u001b[0m \u001b[0m__str__\u001b[0m\u001b[1;33m(\u001b[0m\u001b[0mself\u001b[0m\u001b[1;33m)\u001b[0m\u001b[1;33m:\u001b[0m\u001b[1;33m\u001b[0m\u001b[0m\n\u001b[0;32m      8\u001b[0m         \u001b[1;32mprint\u001b[0m \u001b[1;34m\"in str\"\u001b[0m\u001b[1;33m\u001b[0m\u001b[0m\n\u001b[1;32m----> 9\u001b[1;33m         \u001b[1;32mreturn\u001b[0m \u001b[1;34m\"name: {0}, price: {1}\"\u001b[0m\u001b[1;33m.\u001b[0m\u001b[0mformat\u001b[0m\u001b[1;33m(\u001b[0m\u001b[0mself\u001b[0m\u001b[1;33m.\u001b[0m\u001b[0mname\u001b[0m\u001b[1;33m,\u001b[0m \u001b[0mself\u001b[0m\u001b[1;33m.\u001b[0m\u001b[0mprice\u001b[0m\u001b[1;33m)\u001b[0m\u001b[1;33m\u001b[0m\u001b[0m\n\u001b[0m\u001b[0;32m     10\u001b[0m \u001b[1;33m\u001b[0m\u001b[0m\n\u001b[0;32m     11\u001b[0m \u001b[1;33m\u001b[0m\u001b[0m\n",
        "\u001b[1;31mUnicodeEncodeError\u001b[0m: 'ascii' codec can't encode character u'\\u20ac' in position 0: ordinal not in range(128)"
       ]
      },
      {
       "output_type": "stream",
       "stream": "stdout",
       "text": [
        "0 : in str\n"
       ]
      }
     ],
     "prompt_number": 52
    },
    {
     "cell_type": "markdown",
     "metadata": {},
     "source": [
      "### Categories to Tuple (name, link)"
     ]
    },
    {
     "cell_type": "code",
     "collapsed": false,
     "input": [
      "type(kdcc)\n",
      "mi = kdcc.find_all(\"li\", {\"class\": \"li_unselected\"})\n",
      "\n",
      "def categorize(item):\n",
      "    name = item.text\n",
      "    url = item.find(\"a\")['href']\n",
      "    return (name, url)\n",
      "categorize(mi[0])\n",
      "menu_categories = [categorize(m) for m in mi][:-1]\n",
      "show(menu_categories)"
     ],
     "language": "python",
     "metadata": {},
     "outputs": [
      {
       "output_type": "stream",
       "stream": "stdout",
       "text": [
        "0 : (u'Home Textiles', 'http://www.kilkennydesign.com/Category/55-home-textiles.aspx')\n",
        "1 : (u'Orla Kiely Collection', 'http://www.kilkennydesign.com/Category/230-orla-kiely-collection.aspx')\n",
        "2 : (u'China & Crystal', 'http://www.kilkennydesign.com/Category/240-china-crystal.aspx')\n",
        "3 : (u'Irish Knitwear', 'http://www.kilkennydesign.com/Category/56-irish-knitwear.aspx')\n",
        "4 : (u'Pottery', 'http://www.kilkennydesign.com/Category/52-pottery-nicholas-mosse-irish-craft-bowls-ceramic-plates.aspx')\n",
        "5 : (u'Irish Jewellery', 'http://www.kilkennydesign.com/Category/49-httpwwwkilkennydesigncomcategoryjewelleryaspx.aspx')\n",
        "6 : (u'Gifts from Ireland', 'http://www.kilkennydesign.com/Category/57-gifts-from-ireland.aspx')\n",
        "7 : (u'Country Casuals', 'http://www.kilkennydesign.com/Category/58-country-casuals.aspx')\n",
        "8 : (u'Gift Cards/Vouchers', 'http://www.kilkennydesign.com/Category/150-httpkilkennydesigncomgift_cards_kilkenny_design_centre_.aspx')\n"
       ]
      }
     ],
     "prompt_number": 40
    },
    {
     "cell_type": "markdown",
     "metadata": {},
     "source": [
      "### (name, url) -> (name, list(name,url))\n",
      "\n",
      "### categorize: turns li into (name,url)\n",
      "### subcategorize: turns list(li) into list((name,url)) "
     ]
    },
    {
     "cell_type": "code",
     "collapsed": false,
     "input": [
      "sub = menu_categories[0]\n",
      "subtext = soupify(sub[1])\n",
      "\n",
      "def subcategorize(category,  font_size = \"15\"):\n",
      "    #print \"category\", category\n",
      "    subtext = soupify(category[1])\n",
      "    subcat = subtext.find(\"div\", {'class':'treeview'}).find_all(\"li\", {'style': \"margin-left: {0}px\".format(font_size)})\n",
      "    #print \"SUBCAT\"\n",
      "    #show(subcat)\n",
      "    if len(subcat) < 1:\n",
      "        return [(name, itemize(category[1]))]\n",
      "    return [categorize(sc) for sc in subcat]\n",
      "\n",
      "#print subtext.find(\"div\", {'class':'treeview'})\n",
      "subcategorize(menu_categories[0])\n",
      "\n",
      "mc_subbed = [(category[0], subcategorize(category)) for category in menu_categories]\n"
     ],
     "language": "python",
     "metadata": {},
     "outputs": [],
     "prompt_number": 41
    },
    {
     "cell_type": "markdown",
     "metadata": {},
     "source": [
      "### (name, list(name,url)) -> (name, list(name,list(name,url)))"
     ]
    },
    {
     "cell_type": "code",
     "collapsed": false,
     "input": [
      "#show(mc_subbed)\n",
      "\n",
      "def foo(name, item_list):\n",
      "    print \"name\", name\n",
      "    print \"list in foo\", item_list\n",
      "    l =[(category[0], subcategorize(category, \"30\")) for category in item_list]\n",
      "    print \"LIST\", len(l)\n",
      "    #print show(l)\n",
      "    print l\n",
      "    if len(l) < 1:\n",
      "        pass#l[1] = [\"empty\"]\n",
      "    return (name,l)\n",
      "    #show([categorize(c) for c in subcategorize(item_list[0])])\n",
      "    #return [name, subcategorize(item) for item in item_list]\n",
      "\n",
      "show( [foo(*f) for f in mc_subbed])"
     ],
     "language": "python",
     "metadata": {},
     "outputs": [
      {
       "output_type": "stream",
       "stream": "stdout",
       "text": [
        "name Home Textiles\n",
        "list in foo [(u'Foxford Woollen Mills', 'http://www.kilkennydesign.com/Category/202-foxford-woollen-mills.aspx'), (u'Carraig Donn', 'http://www.kilkennydesign.com/Category/259-carraig-donn.aspx')]\n",
        "LIST"
       ]
      },
      {
       "output_type": "stream",
       "stream": "stdout",
       "text": [
        " 2\n",
        "[(u'Foxford Woollen Mills', [(u'Gift Cards/Vouchers', [[u'Large Lambswool Throw - Wicklow Tartan', u'\\u20ac79.95 (EUR)', u'\\xa0\\r', u'            '], [u'Large Lambswool Throw - Leaf Solid', u'\\u20ac79.95 (EUR)', u'\\xa0\\r', u'            ']])]), (u'Carraig Donn', [(u'Gift Cards/Vouchers', [[u'Aran Shamrock Blanket', u'\\u20ac69.95 (EUR)', u'\\xa0\\r', u'            ']])])]\n",
        "name Orla Kiely Collection\n",
        "list in foo [(u'Orla Kiely Bags', 'http://www.kilkennydesign.com/Category/263-orla-kiely-bags.aspx'), (u'Orla Kiely Fragrance', 'http://www.kilkennydesign.com/Category/264-orla-kiely-fragrance.aspx'), (u'Orla Kiely House', 'http://www.kilkennydesign.com/Category/265-orla-kiely-house.aspx')]\n",
        "LIST"
       ]
      },
      {
       "output_type": "stream",
       "stream": "stdout",
       "text": [
        " 3\n",
        "[(u'Orla Kiely Bags', [(u'Gift Cards/Vouchers', [[u'Orla Kiely Tillie Bag', u'\\u20ac298.00 (EUR)', u'\\xa0\\r', u'            '], [u'Orla Kiely Rosemary Bag', u'\\u20ac378.00 (EUR)', u'\\xa0\\r', u'            '], [u'Orla Kiely Mini Ivy Bag', u'\\u20ac353.00 (EUR)', u'\\xa0\\r', u'            '], [u'Orla Kiely Linear Stem Weekend Bag', u'\\u20ac229.00 (EUR)', u'\\xa0\\r', u'            '], [u'Orla Kiely Sycamore Shoulder Bag', u'\\u20ac169.00 (EUR)', u'\\xa0\\r', u'            '], [u'Orla Kiely Punched Leather Big Zip Wallet', u'\\u20ac178.00 (EUR)', u'\\xa0\\r', u'            '], [u'Orla Kiely Punched Leather Flat Zip Purse', u'\\u20ac123.00 (EUR)', u'\\xa0\\r', u'            '], [u'Orla Kiely Sycamore Wash Bag', u'\\u20ac83.00 (EUR)', u'\\xa0\\r', u'            ']])]), (u'Orla Kiely Fragrance', [(u'Gift Cards/Vouchers', [[u'Orla Kiely Geranium Shower Gel SKU120498', u'\\u20ac15.00 (EUR)', u'\\xa0\\r', u'            '], [u'Orla Kiely Geranium Body Lotion SKU120499', u'\\u20ac15.00 (EUR)', u'\\xa0\\r', u'            '], [u'Orla Kiely Geranium Hand Wash SKU130904', u'\\u20ac13.00 (EUR)', u'\\xa0\\r', u'            '], [u'Orla Kiely Geranium Hand Lotion SKU130905', u'\\u20ac15.00 (EUR)', u'\\xa0\\r', u'            '], [u'Orla Kiely Geranium Soap Bar SKU130907', u'\\u20ac10.00 (EUR)', u'\\xa0\\r', u'            '], [u'Orla Kiely Candle Geranium & Myrrh SKU128176', u'\\u20ac29.95 (EUR)', u'\\xa0\\r', u'            '], [u'Orla Kiely Candle Sage & Cassis SKU123736', u'\\u20ac29.95 (EUR)', u'\\xa0\\r', u'            '], [u'Orla Kiely Candle Basil & Mint SKU123737', u'\\u20ac29.95 (EUR)', u'\\xa0\\r', u'            '], [u'Orla Kiely Candle Rhubarb SKU135309', u'\\u20ac29.95 (EUR)', u'\\xa0\\r', u'            '], [u'Orla Kiely Candle Fig Tree SKU123735', u'\\u20ac29.95 (EUR)', u'\\xa0\\r', u'            '], [u'Orla Kiely Diffuser Fig Tree SKU123740', u'\\u20ac29.95 (EUR)', u'\\xa0\\r', u'            ']])]), (u'Orla Kiely House', [(u'Gift Cards/Vouchers', [[u'Orla Kiely Towels Sculpted Stem Tomato', u'From \\u20ac5.95 (EUR)', u'\\xa0\\r', u'            \\r', u'        '], [u'Orla Kiely Beach Towel SKU136304', u'\\u20ac69.50 (EUR)', u'\\xa0\\r', u'            '], [u'Orla Kiely Beach Towel SKU136305', u'\\u20ac69.50 (EUR)', u'\\xa0\\r', u'            '], [u'Orla Kiely Bedding Abacus Mushroom', u'From \\u20ac34.50 (EUR)', u'\\xa0\\r', u'            \\r', u'        '], [u'Orla Kiely Bedding Tiny Stem Grey', u'From \\u20ac34.50 (EUR)', u'\\xa0\\r', u'            \\r', u'        '], [u'Orla Kiely Bedding Multi Scribble Stem', u'From \\u20ac34.50 (EUR)', u'\\xa0\\r', u'            \\r', u'        '], [u'Orla Kiely Cushion Linear Stem Apple', u'\\u20ac48.75 (EUR)', u'\\xa0\\r', u'            '], [u'Orla KIely Cushion Linear Stem Blue', u'\\u20ac48.75 (EUR)', u'\\xa0\\r', u'            '], [u'Orla Kiely Cushion Linear Stem Red', u'\\u20ac48.75 (EUR)', u'\\xa0\\r', u'            ']])])]\n",
        "name China & Crystal\n",
        "list in foo [(u'Waterford Crystal', 'http://www.kilkennydesign.com/Category/162-waterford-crystal.aspx'), (u'Belleek', 'http://www.kilkennydesign.com/Category/131-belleek.aspx')]\n",
        "LIST"
       ]
      },
      {
       "output_type": "stream",
       "stream": "stdout",
       "text": [
        " 2\n",
        "[(u'Waterford Crystal', [(u'Lismore', 'http://www.kilkennydesign.com/Category/166-lismore.aspx'), (u'Dolmen', 'http://www.kilkennydesign.com/Category/168-dolmen.aspx')]), (u'Belleek', [(u'Vases', 'http://www.kilkennydesign.com/Category/205-vases.aspx'), (u'Giftware', 'http://www.kilkennydesign.com/Category/204-giftware.aspx'), (u'Tableware', 'http://www.kilkennydesign.com/Category/206-tableware.aspx')])]\n",
        "name Irish Knitwear\n",
        "list in foo [(u'Aran Knitwear', 'http://www.kilkennydesign.com/Category/189-aran-knitwear.aspx'), (u'Fisherman Out Of Ireland', 'http://www.kilkennydesign.com/Category/149-fisherman-out-of-ireland.aspx'), (u'McKernan Scarves', 'http://www.kilkennydesign.com/Category/258-mckernan-scarves.aspx')]\n",
        "LIST"
       ]
      },
      {
       "output_type": "stream",
       "stream": "stdout",
       "text": [
        " 3\n",
        "[(u'Aran Knitwear', [(u'Gift Cards/Vouchers', [[u'Ladies Aran Hooded Coat with Celtic Knot Zipper', u'From \\u20ac89.95 (EUR)', u'\\xa0\\r', u'            \\r', u'        '], [u'Ladies Aran Merino Wool Poncho', u'From \\u20ac59.95 (EUR)', u'\\xa0\\r', u'            \\r', u'        ']])]), (u'Fisherman Out Of Ireland', [(u'Gift Cards/Vouchers', [])]), (u'McKernan Scarves', [(u'Gift Cards/Vouchers', [[u'Cosmo Knitted Merino Scarf', u'From \\u20ac72.50 (EUR)', u'\\xa0\\r', u'            \\r', u'        '], [u'Mermaid Knitted Alpaca Silk Blend Scarf', u'From \\u20ac61.50 (EUR)', u'\\xa0\\r', u'            \\r', u'        ']])])]\n",
        "name Pottery\n",
        "list in foo [(u'Nicholas Mosse', 'http://www.kilkennydesign.com/Category/53-nicholas-mosse.aspx'), (u'Paul Maloney', 'http://www.kilkennydesign.com/Category/76-paul-maloney.aspx'), (u'Kiltrea Bridge Pottery', 'http://www.kilkennydesign.com/Category/89-kiltrea-bridge-pottery.aspx')]\n",
        "LIST"
       ]
      },
      {
       "output_type": "stream",
       "stream": "stdout",
       "text": [
        " 3\n",
        "[(u'Nicholas Mosse', [(u'Red Apple', 'http://www.kilkennydesign.com/Category/84-red-apple.aspx'), (u'Old Rose', 'http://www.kilkennydesign.com/Category/85-old-rose.aspx'), (u'Fuchsia', 'http://www.kilkennydesign.com/Category/239-fuchsia.aspx')]), (u'Paul Maloney', [(u'Gift Cards/Vouchers', [[u'Regular Cylinder Mug', u'\\u20ac15.95 (EUR)', u'\\xa0\\r', u'            \\r', u'        '], [u'Sugar Bowl', u'\\u20ac25.95 (EUR)', u'\\xa0\\r', u'            '], [u'Creamer Jug', u'\\u20ac16.95 (EUR)', u'\\xa0\\r', u'            '], [u'Goblet', u'\\u20ac24.50 (EUR)', u'\\xa0\\r', u'            \\r', u'        ']])]), (u'Kiltrea Bridge Pottery', [(u'Gift Cards/Vouchers', [[u'Culchie Mug', u'\\u20ac21.95 (EUR)', u'\\xa0\\r', u'            '], [u'Flared Mug', u'\\u20ac17.95 (EUR)', u'\\xa0\\r', u'            '], [u'Tall Mug', u'\\u20ac16.95 (EUR)', u'\\xa0\\r', u'            '], [u'Medium Jug', u'\\u20ac29.95 (EUR)', u'\\xa0\\r', u'            '], [u'Sugar Bowl', u'\\u20ac12.95 (EUR)', u'\\xa0\\r', u'            '], [u'Teabag Holder', u'\\u20ac28.50 (EUR)', u'\\xa0\\r', u'            ']])])]\n",
        "name Irish Jewellery\n",
        "list in foo [(u'Celtic  ', 'http://www.kilkennydesign.com/Category/186-celtic.aspx'), (u'Contemporary ', 'http://www.kilkennydesign.com/Category/187-contemporary.aspx'), (u'Costume Jewellery', 'http://www.kilkennydesign.com/Category/234-costume-jewellery.aspx')]\n",
        "LIST"
       ]
      },
      {
       "output_type": "stream",
       "stream": "stdout",
       "text": [
        " 3\n",
        "[(u'Celtic  ', [(u'Claddagh', 'http://www.kilkennydesign.com/Category/176-httpskilkennydesigncomcladdagh_rings_celtic_jewelery_irish_jewellery_sterling_silver.aspx'), (u'Aidan Breen', 'http://www.kilkennydesign.com/Category/203-aidan-breen.aspx'), (u'Maureen Lynch', 'http://www.kilkennydesign.com/Category/229-maureen-lynch.aspx'), (u'History of Ireland', 'http://www.kilkennydesign.com/Category/79-history-of-ireland.aspx')]), (u'Contemporary ', [(u'Alan Ardiff', 'http://www.kilkennydesign.com/Category/67-alan-ardiff.aspx'), (u'Paul Costello', 'http://www.kilkennydesign.com/Category/266-paul-costello.aspx'), (u'Enibas', 'http://www.kilkennydesign.com/Category/70-enibas.aspx'), (u'Maureen Lynch', 'http://www.kilkennydesign.com/Category/73-maureen-lynch.aspx')]), (u'Costume Jewellery', [(u'Newbridge Silverware', 'http://www.kilkennydesign.com/Category/235-newbridge-silverware.aspx')])]\n",
        "name Gifts from Ireland\n",
        "list in foo [(u'Ogham Wishes', 'http://www.kilkennydesign.com/Category/146-ogham-wishes.aspx'), (u'Fragrance and Beauty', 'http://www.kilkennydesign.com/Category/245-fragrance-and-beauty.aspx'), (u'Wild Goose', 'http://www.kilkennydesign.com/Category/147-wild-goose.aspx'), (u'Marble Giftware', 'http://www.kilkennydesign.com/Category/208-marble-giftware.aspx')]\n",
        "LIST"
       ]
      },
      {
       "output_type": "stream",
       "stream": "stdout",
       "text": [
        " 4\n",
        "[(u'Ogham Wishes', [(u'Gift Cards/Vouchers', [[u'Ogham Wishes - Blessing', u'\\u20ac29.95 (EUR)', u'\\xa0\\r', u'            '], [u'Ogham Wishes - Love', u'\\u20ac29.95 (EUR)', u'\\xa0\\r', u'            '], [u'Ogham Wishes - Family', u'\\u20ac29.95 (EUR)', u'\\xa0\\r', u'            '], [u'Ogham Wishes - Welcome', u'\\u20ac29.95 (EUR)', u'\\xa0\\r', u'            '], [u'Ogham Wishes - Health', u'\\u20ac29.95 (EUR)', u'\\xa0\\r', u'            '], [u'Ogham Wishes - Happiness', u'\\u20ac29.95 (EUR)', u'\\xa0\\r', u'            ']])]), (u'Fragrance and Beauty', [(u'Gift Cards/Vouchers', [[u'Inis Cologne Spray', u'\\u20ac34.95 (EUR)', u'\\xa0\\r', u'            '], [u'Connemara Eau de Toilette Spray', u'From \\u20ac19.95 (EUR)', u'\\xa0\\r', u'            \\r', u'        '], [u'Patrick Cologne Spray', u'\\u20ac24.95 (EUR)', u'\\xa0\\r', u'            '], [u'Heather and Moss Naturally Irish Soap', u'\\u20ac4.95 (EUR)', u'\\xa0\\r', u'            '], [u'Sweet Lavender Naturally Irish Soap', u'\\u20ac4.95 (EUR)', u'\\xa0\\r', u'            '], [u'Heather and Moss Naturally Irish Bath Salts', u'\\u20ac7.95 (EUR)', u'\\xa0\\r', u'            '], [u'Sweet Lavender Naturally Irish Bath Salts', u'\\u20ac7.95 (EUR)', u'\\xa0\\r', u'            ']])]), (u'Wild Goose', [(u'Gift Cards/Vouchers', [[u'Cead Mile Failte Plaque', u'\\u20ac49.95 (EUR)', u'\\xa0\\r', u'            '], [u\"St. Patrick's Cross \", u'\\u20ac39.95 (EUR)', u'\\xa0\\r', u'            '], [u'Glendalough Cross ', u'\\u20ac35.95 (EUR)', u'\\xa0\\r', u'            '], [u'Celtic Love Cross Bronze', u'\\u20ac46.95 (EUR)', u'\\xa0\\r', u'            '], [u'Celtic Cross of Peace & Prayer Bronze', u'\\u20ac46.95 (EUR)', u'\\xa0\\r', u'            '], [u'Slainte Plaque Bronze', u'\\u20ac46.95 (EUR)', u'\\xa0\\r', u'            '], [u'Family Tree Plaque Bronze', u'\\u20ac53.95 (EUR)', u'\\xa0\\r', u'            '], [u\"St. Brigid's Cross\", u'\\u20ac32.95 (EUR)', u'\\xa0\\r', u'            '], [u'Celtic Angel', u'\\u20ac30.95 (EUR)', u'\\xa0\\r', u'            '], [u'Who Looks Outside........', u'\\u20ac38.95 (EUR)', u'\\xa0\\r', u'            ']])]), (u'Marble Giftware', [(u'Connemara Marble', 'http://www.kilkennydesign.com/Category/210-connemara-marble.aspx'), (u'Kilkenny Limestone', 'http://www.kilkennydesign.com/Category/211-kilkenny-limestone.aspx')])]\n",
        "name Country Casuals\n",
        "list in foo [(u'Barbour Clothing', 'http://www.kilkennydesign.com/Category/159-barbour-clothing.aspx'), (u'Mckernan Scarves', 'http://www.kilkennydesign.com/Category/104-mckernan-scarves.aspx')]\n",
        "LIST"
       ]
      },
      {
       "ename": "AttributeError",
       "evalue": "'list' object has no attribute 'timeout'",
       "output_type": "pyerr",
       "traceback": [
        "\u001b[1;31m---------------------------------------------------------------------------\u001b[0m\n\u001b[1;31mAttributeError\u001b[0m                            Traceback (most recent call last)",
        "\u001b[1;32m<ipython-input-42-99c1e22d5f73>\u001b[0m in \u001b[0;36m<module>\u001b[1;34m()\u001b[0m\n\u001b[0;32m     14\u001b[0m     \u001b[1;31m#return [name, subcategorize(item) for item in item_list]\u001b[0m\u001b[1;33m\u001b[0m\u001b[1;33m\u001b[0m\u001b[0m\n\u001b[0;32m     15\u001b[0m \u001b[1;33m\u001b[0m\u001b[0m\n\u001b[1;32m---> 16\u001b[1;33m \u001b[0mshow\u001b[0m\u001b[1;33m(\u001b[0m \u001b[1;33m[\u001b[0m\u001b[0mfoo\u001b[0m\u001b[1;33m(\u001b[0m\u001b[1;33m*\u001b[0m\u001b[0mf\u001b[0m\u001b[1;33m)\u001b[0m \u001b[1;32mfor\u001b[0m \u001b[0mf\u001b[0m \u001b[1;32min\u001b[0m \u001b[0mmc_subbed\u001b[0m\u001b[1;33m]\u001b[0m\u001b[1;33m)\u001b[0m\u001b[1;33m\u001b[0m\u001b[0m\n\u001b[0m",
        "\u001b[1;32m<ipython-input-42-99c1e22d5f73>\u001b[0m in \u001b[0;36mfoo\u001b[1;34m(name, item_list)\u001b[0m\n\u001b[0;32m      4\u001b[0m     \u001b[1;32mprint\u001b[0m \u001b[1;34m\"name\"\u001b[0m\u001b[1;33m,\u001b[0m \u001b[0mname\u001b[0m\u001b[1;33m\u001b[0m\u001b[0m\n\u001b[0;32m      5\u001b[0m     \u001b[1;32mprint\u001b[0m \u001b[1;34m\"list in foo\"\u001b[0m\u001b[1;33m,\u001b[0m \u001b[0mitem_list\u001b[0m\u001b[1;33m\u001b[0m\u001b[0m\n\u001b[1;32m----> 6\u001b[1;33m     \u001b[0ml\u001b[0m \u001b[1;33m=\u001b[0m\u001b[1;33m[\u001b[0m\u001b[1;33m(\u001b[0m\u001b[0mcategory\u001b[0m\u001b[1;33m[\u001b[0m\u001b[1;36m0\u001b[0m\u001b[1;33m]\u001b[0m\u001b[1;33m,\u001b[0m \u001b[0msubcategorize\u001b[0m\u001b[1;33m(\u001b[0m\u001b[0mcategory\u001b[0m\u001b[1;33m,\u001b[0m \u001b[1;34m\"30\"\u001b[0m\u001b[1;33m)\u001b[0m\u001b[1;33m)\u001b[0m \u001b[1;32mfor\u001b[0m \u001b[0mcategory\u001b[0m \u001b[1;32min\u001b[0m \u001b[0mitem_list\u001b[0m\u001b[1;33m]\u001b[0m\u001b[1;33m\u001b[0m\u001b[0m\n\u001b[0m\u001b[0;32m      7\u001b[0m     \u001b[1;32mprint\u001b[0m \u001b[1;34m\"LIST\"\u001b[0m\u001b[1;33m,\u001b[0m \u001b[0mlen\u001b[0m\u001b[1;33m(\u001b[0m\u001b[0ml\u001b[0m\u001b[1;33m)\u001b[0m\u001b[1;33m\u001b[0m\u001b[0m\n\u001b[0;32m      8\u001b[0m     \u001b[1;31m#print show(l)\u001b[0m\u001b[1;33m\u001b[0m\u001b[1;33m\u001b[0m\u001b[0m\n",
        "\u001b[1;32m<ipython-input-41-cbe07ed6dd0e>\u001b[0m in \u001b[0;36msubcategorize\u001b[1;34m(category, font_size)\u001b[0m\n\u001b[0;32m      4\u001b[0m \u001b[1;32mdef\u001b[0m \u001b[0msubcategorize\u001b[0m\u001b[1;33m(\u001b[0m\u001b[0mcategory\u001b[0m\u001b[1;33m,\u001b[0m  \u001b[0mfont_size\u001b[0m \u001b[1;33m=\u001b[0m \u001b[1;34m\"15\"\u001b[0m\u001b[1;33m)\u001b[0m\u001b[1;33m:\u001b[0m\u001b[1;33m\u001b[0m\u001b[0m\n\u001b[0;32m      5\u001b[0m     \u001b[1;31m#print \"category\", category\u001b[0m\u001b[1;33m\u001b[0m\u001b[1;33m\u001b[0m\u001b[0m\n\u001b[1;32m----> 6\u001b[1;33m     \u001b[0msubtext\u001b[0m \u001b[1;33m=\u001b[0m \u001b[0msoupify\u001b[0m\u001b[1;33m(\u001b[0m\u001b[0mcategory\u001b[0m\u001b[1;33m[\u001b[0m\u001b[1;36m1\u001b[0m\u001b[1;33m]\u001b[0m\u001b[1;33m)\u001b[0m\u001b[1;33m\u001b[0m\u001b[0m\n\u001b[0m\u001b[0;32m      7\u001b[0m     \u001b[0msubcat\u001b[0m \u001b[1;33m=\u001b[0m \u001b[0msubtext\u001b[0m\u001b[1;33m.\u001b[0m\u001b[0mfind\u001b[0m\u001b[1;33m(\u001b[0m\u001b[1;34m\"div\"\u001b[0m\u001b[1;33m,\u001b[0m \u001b[1;33m{\u001b[0m\u001b[1;34m'class'\u001b[0m\u001b[1;33m:\u001b[0m\u001b[1;34m'treeview'\u001b[0m\u001b[1;33m}\u001b[0m\u001b[1;33m)\u001b[0m\u001b[1;33m.\u001b[0m\u001b[0mfind_all\u001b[0m\u001b[1;33m(\u001b[0m\u001b[1;34m\"li\"\u001b[0m\u001b[1;33m,\u001b[0m \u001b[1;33m{\u001b[0m\u001b[1;34m'style'\u001b[0m\u001b[1;33m:\u001b[0m \u001b[1;34m\"margin-left: {0}px\"\u001b[0m\u001b[1;33m.\u001b[0m\u001b[0mformat\u001b[0m\u001b[1;33m(\u001b[0m\u001b[0mfont_size\u001b[0m\u001b[1;33m)\u001b[0m\u001b[1;33m}\u001b[0m\u001b[1;33m)\u001b[0m\u001b[1;33m\u001b[0m\u001b[0m\n\u001b[0;32m      8\u001b[0m     \u001b[1;31m#print \"SUBCAT\"\u001b[0m\u001b[1;33m\u001b[0m\u001b[1;33m\u001b[0m\u001b[0m\n",
        "\u001b[1;32m<ipython-input-37-b1b2a29c1cdc>\u001b[0m in \u001b[0;36msoupify\u001b[1;34m(url)\u001b[0m\n\u001b[0;32m      1\u001b[0m \u001b[1;32mdef\u001b[0m \u001b[0msoupify\u001b[0m\u001b[1;33m(\u001b[0m\u001b[0murl\u001b[0m\u001b[1;33m)\u001b[0m\u001b[1;33m:\u001b[0m\u001b[1;33m\u001b[0m\u001b[0m\n\u001b[0;32m      2\u001b[0m     \u001b[0maddress\u001b[0m \u001b[1;33m=\u001b[0m \u001b[0murl\u001b[0m\u001b[1;33m\u001b[0m\u001b[0m\n\u001b[1;32m----> 3\u001b[1;33m     \u001b[0murl\u001b[0m \u001b[1;33m=\u001b[0m \u001b[0murllib2\u001b[0m\u001b[1;33m.\u001b[0m\u001b[0murlopen\u001b[0m\u001b[1;33m(\u001b[0m\u001b[0maddress\u001b[0m\u001b[1;33m)\u001b[0m\u001b[1;33m\u001b[0m\u001b[0m\n\u001b[0m\u001b[0;32m      4\u001b[0m     \u001b[0mcontent\u001b[0m \u001b[1;33m=\u001b[0m \u001b[0murl\u001b[0m\u001b[1;33m.\u001b[0m\u001b[0mread\u001b[0m\u001b[1;33m(\u001b[0m\u001b[1;33m)\u001b[0m\u001b[1;33m\u001b[0m\u001b[0m\n\u001b[0;32m      5\u001b[0m     \u001b[1;32mreturn\u001b[0m \u001b[0mBeautifulSoup\u001b[0m\u001b[1;33m(\u001b[0m\u001b[0mcontent\u001b[0m\u001b[1;33m)\u001b[0m\u001b[1;33m\u001b[0m\u001b[0m\n",
        "\u001b[1;32mC:\\Anaconda\\lib\\urllib2.pyc\u001b[0m in \u001b[0;36murlopen\u001b[1;34m(url, data, timeout)\u001b[0m\n\u001b[0;32m    125\u001b[0m     \u001b[1;32mif\u001b[0m \u001b[0m_opener\u001b[0m \u001b[1;32mis\u001b[0m \u001b[0mNone\u001b[0m\u001b[1;33m:\u001b[0m\u001b[1;33m\u001b[0m\u001b[0m\n\u001b[0;32m    126\u001b[0m         \u001b[0m_opener\u001b[0m \u001b[1;33m=\u001b[0m \u001b[0mbuild_opener\u001b[0m\u001b[1;33m(\u001b[0m\u001b[1;33m)\u001b[0m\u001b[1;33m\u001b[0m\u001b[0m\n\u001b[1;32m--> 127\u001b[1;33m     \u001b[1;32mreturn\u001b[0m \u001b[0m_opener\u001b[0m\u001b[1;33m.\u001b[0m\u001b[0mopen\u001b[0m\u001b[1;33m(\u001b[0m\u001b[0murl\u001b[0m\u001b[1;33m,\u001b[0m \u001b[0mdata\u001b[0m\u001b[1;33m,\u001b[0m \u001b[0mtimeout\u001b[0m\u001b[1;33m)\u001b[0m\u001b[1;33m\u001b[0m\u001b[0m\n\u001b[0m\u001b[0;32m    128\u001b[0m \u001b[1;33m\u001b[0m\u001b[0m\n\u001b[0;32m    129\u001b[0m \u001b[1;32mdef\u001b[0m \u001b[0minstall_opener\u001b[0m\u001b[1;33m(\u001b[0m\u001b[0mopener\u001b[0m\u001b[1;33m)\u001b[0m\u001b[1;33m:\u001b[0m\u001b[1;33m\u001b[0m\u001b[0m\n",
        "\u001b[1;32mC:\\Anaconda\\lib\\urllib2.pyc\u001b[0m in \u001b[0;36mopen\u001b[1;34m(self, fullurl, data, timeout)\u001b[0m\n\u001b[0;32m    393\u001b[0m                 \u001b[0mreq\u001b[0m\u001b[1;33m.\u001b[0m\u001b[0madd_data\u001b[0m\u001b[1;33m(\u001b[0m\u001b[0mdata\u001b[0m\u001b[1;33m)\u001b[0m\u001b[1;33m\u001b[0m\u001b[0m\n\u001b[0;32m    394\u001b[0m \u001b[1;33m\u001b[0m\u001b[0m\n\u001b[1;32m--> 395\u001b[1;33m         \u001b[0mreq\u001b[0m\u001b[1;33m.\u001b[0m\u001b[0mtimeout\u001b[0m \u001b[1;33m=\u001b[0m \u001b[0mtimeout\u001b[0m\u001b[1;33m\u001b[0m\u001b[0m\n\u001b[0m\u001b[0;32m    396\u001b[0m         \u001b[0mprotocol\u001b[0m \u001b[1;33m=\u001b[0m \u001b[0mreq\u001b[0m\u001b[1;33m.\u001b[0m\u001b[0mget_type\u001b[0m\u001b[1;33m(\u001b[0m\u001b[1;33m)\u001b[0m\u001b[1;33m\u001b[0m\u001b[0m\n\u001b[0;32m    397\u001b[0m \u001b[1;33m\u001b[0m\u001b[0m\n",
        "\u001b[1;31mAttributeError\u001b[0m: 'list' object has no attribute 'timeout'"
       ]
      },
      {
       "output_type": "stream",
       "stream": "stdout",
       "text": [
        " 2\n",
        "[(u'Barbour Clothing', [(u'Ladieswear', 'http://www.kilkennydesign.com/Category/160-ladieswear.aspx'), (u'Accessories', 'http://www.kilkennydesign.com/Category/161-accessories.aspx'), (u'Menswear', 'http://www.kilkennydesign.com/Category/173-menswear.aspx')]), (u'Mckernan Scarves', [(u'Gift Cards/Vouchers', [[u'Cosmo Knitted Merino Scarf', u'From \\u20ac72.50 (EUR)', u'\\xa0\\r', u'            \\r', u'        '], [u'Mermaid Knitted Alpaca Silk Blend Scarf', u'From \\u20ac61.50 (EUR)', u'\\xa0\\r', u'            \\r', u'        ']])])]\n",
        "name Gift Cards/Vouchers\n",
        "list in foo [(u'Gift Cards/Vouchers', [[u'Gift Card \\u20ac10', u'\\u20ac10.00 (EUR)', u'\\xa0\\r', u'            '], [u'Gift Card \\u20ac50', u'\\u20ac50.00 (EUR)', u'\\xa0\\r', u'            '], [u'Gift Card \\u20ac100', u'\\u20ac100.00 (EUR)', u'\\xa0\\r', u'            '], [u'Gift Card \\u20ac500', u'\\u20ac500.00 (EUR)', u'\\xa0\\r', u'            ']])]\n"
       ]
      }
     ],
     "prompt_number": 42
    },
    {
     "cell_type": "code",
     "collapsed": false,
     "input": [
      "#show(mc_subbed)\n",
      "#mc_subbed_subbed = [(category[0], subcategorize(category[1])) for name, category in mc_subbed]\n",
      "for name, categories in mc_subbed:\n",
      "    pass\n",
      "\n",
      "def categorize_list(_list):\n",
      "    print \"cl:\", _list\n",
      "    j = [subcategorize(item) for item in _list]\n",
      "    print \"j\", j\n",
      "    return j\n",
      "    \n",
      "mc_subbed_subbed = [(name, categorize_list(category_list)) for name, category_list in mc_subbed]\n",
      "\n",
      "for i in mc_subbed_subbed:\n",
      "    print i[0]\n",
      "    show(i[1])"
     ],
     "language": "python",
     "metadata": {},
     "outputs": []
    },
    {
     "cell_type": "code",
     "collapsed": false,
     "input": [
      "show(mc_subbed)"
     ],
     "language": "python",
     "metadata": {},
     "outputs": []
    }
   ],
   "metadata": {}
  }
 ]
}