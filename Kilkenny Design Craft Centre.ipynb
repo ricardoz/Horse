{
 "metadata": {
  "name": ""
 },
 "nbformat": 3,
 "nbformat_minor": 0,
 "worksheets": [
  {
   "cells": [
    {
     "cell_type": "code",
     "collapsed": false,
     "input": [
      "# Beautiful Soup\n",
      "import lxml.etree\n",
      "import lxml.html\n",
      "import urllib2\n",
      "from bs4 import BeautifulSoup"
     ],
     "language": "python",
     "metadata": {},
     "outputs": [],
     "prompt_number": 144
    },
    {
     "cell_type": "code",
     "collapsed": false,
     "input": [
      "def soupify(url):\n",
      "    address = url\n",
      "    url = urllib2.urlopen(address)\n",
      "    content = url.read()\n",
      "    return BeautifulSoup(content)\n",
      "\n",
      "def show(_list):\n",
      "    for number, item in enumerate(_list):\n",
      "        print number, \":\", item"
     ],
     "language": "python",
     "metadata": {},
     "outputs": [],
     "prompt_number": 145
    },
    {
     "cell_type": "code",
     "collapsed": false,
     "input": [
      "kdcc = soupify('http://www.kilkennydesign.com/Default.aspx')"
     ],
     "language": "python",
     "metadata": {},
     "outputs": [],
     "prompt_number": 146
    },
    {
     "cell_type": "markdown",
     "metadata": {},
     "source": [
      "## Objects"
     ]
    },
    {
     "cell_type": "code",
     "collapsed": false,
     "input": [
      "class Item(object):\n",
      "    \"\"\"Name and Price of Items for sale in KDC\"\"\"\n",
      "    def __init__(self, parent, name, price, *args):\n",
      "        self.name = name\n",
      "        self.price = price[1:]\n",
      "        \n",
      "    def __str__(self):\n",
      "        return \"name: {0}, price: {1}\".format(self.name, self.price)\n",
      "        \n",
      "    \n",
      "class Category(object):\n",
      "    \n",
      "    \n",
      "    def __init__(self, parent,name, url, font_size=0):\n",
      "        self.categories = []\n",
      "        self.name = name\n",
      "        self.url = url\n",
      "        self.font_size = font_size\n",
      "        self.parent = parent\n",
      "        \n",
      "       # print \"NEW Category\", name , \"----\", url\n",
      "        \n",
      "        if parent:\n",
      "            parent.categories.append(self)\n",
      "            self.font_size = parent.font_size + 15\n",
      "            \n",
      "        \n",
      "        \n",
      "    def __str__(self):\n",
      "        return \"cat: \" +self.name + \"\\n\\t\".join(self.categories)\n",
      "    \n",
      "    def __repr__(self):\n",
      "        return self.__str__()\n",
      "    \n",
      "KDC = Category(None, \"KDC\", kdcc)\n",
      "\n",
      "def itemize(parent,url):\n",
      "    \"\"\"takes a URL and finds the itrms on a page\"\"\"\n",
      "    soup = soupify(url)\n",
      "    \n",
      "    items = soup.find_all(\"div\", {'class':'ProductItem'})\n",
      "    \n",
      "    token_list = [x.text.split(\"\\n\") for x in items]\n",
      "    \n",
      "    a =[]\n",
      "    for t in token_list:\n",
      "        a.append([w for w in t if w])\n",
      "        \n",
      "    \n",
      "    \n",
      "    return [Item(parent, *i) for i in a] \n",
      "        \n",
      "    \n",
      "it = itemize(KDC,'http://www.kilkennydesign.com/Category/202-foxford-woollen-mills.aspx')\n",
      "#show (it)"
     ],
     "language": "python",
     "metadata": {},
     "outputs": [],
     "prompt_number": 159
    },
    {
     "cell_type": "markdown",
     "metadata": {},
     "source": [
      "### Categories to Tuple (name, link)"
     ]
    },
    {
     "cell_type": "code",
     "collapsed": false,
     "input": [
      "type(kdcc)\n",
      "mi = kdcc.find_all(\"li\", {\"class\": \"li_unselected\"})\n",
      "\n",
      "def categorize(parent, item):\n",
      "    name = item.text\n",
      "    url = item.find(\"a\")['href']\n",
      "    print name , \"----\", url\n",
      "    \n",
      "    cat = Category(parent, name, url)\n",
      "    parent.categories.append(cat)\n",
      "    print \"added cate\", parent.categories\n",
      "    return cat\n",
      "\n",
      "menu_categories = [categorize(KDC, m) for m in mi][:-1]\n",
      "show(menu_categories)"
     ],
     "language": "python",
     "metadata": {},
     "outputs": [
      {
       "output_type": "stream",
       "stream": "stdout",
       "text": [
        "Home Textiles ---- http://www.kilkennydesign.com/Category/55-home-textiles.aspx\n",
        "added cate [cat: Home Textiles, cat: Home Textiles]\n",
        "Orla Kiely Collection ---- http://www.kilkennydesign.com/Category/230-orla-kiely-collection.aspx\n",
        "added cate [cat: Home Textiles, cat: Home Textiles, cat: Orla Kiely Collection, cat: Orla Kiely Collection]\n",
        "China & Crystal ---- http://www.kilkennydesign.com/Category/240-china-crystal.aspx\n",
        "added cate [cat: Home Textiles, cat: Home Textiles, cat: Orla Kiely Collection, cat: Orla Kiely Collection, cat: China & Crystal, cat: China & Crystal]\n",
        "Irish Knitwear ---- http://www.kilkennydesign.com/Category/56-irish-knitwear.aspx\n",
        "added cate [cat: Home Textiles, cat: Home Textiles, cat: Orla Kiely Collection, cat: Orla Kiely Collection, cat: China & Crystal, cat: China & Crystal, cat: Irish Knitwear, cat: Irish Knitwear]\n",
        "Pottery ---- http://www.kilkennydesign.com/Category/52-pottery-nicholas-mosse-irish-craft-bowls-ceramic-plates.aspx\n",
        "added cate [cat: Home Textiles, cat: Home Textiles, cat: Orla Kiely Collection, cat: Orla Kiely Collection, cat: China & Crystal, cat: China & Crystal, cat: Irish Knitwear, cat: Irish Knitwear, cat: Pottery, cat: Pottery]\n",
        "Irish Jewellery ---- http://www.kilkennydesign.com/Category/49-httpwwwkilkennydesigncomcategoryjewelleryaspx.aspx\n",
        "added cate [cat: Home Textiles, cat: Home Textiles, cat: Orla Kiely Collection, cat: Orla Kiely Collection, cat: China & Crystal, cat: China & Crystal, cat: Irish Knitwear, cat: Irish Knitwear, cat: Pottery, cat: Pottery, cat: Irish Jewellery, cat: Irish Jewellery]\n",
        "Gifts from Ireland ---- http://www.kilkennydesign.com/Category/57-gifts-from-ireland.aspx\n",
        "added cate [cat: Home Textiles, cat: Home Textiles, cat: Orla Kiely Collection, cat: Orla Kiely Collection, cat: China & Crystal, cat: China & Crystal, cat: Irish Knitwear, cat: Irish Knitwear, cat: Pottery, cat: Pottery, cat: Irish Jewellery, cat: Irish Jewellery, cat: Gifts from Ireland, cat: Gifts from Ireland]\n",
        "Country Casuals ---- http://www.kilkennydesign.com/Category/58-country-casuals.aspx\n",
        "added cate [cat: Home Textiles, cat: Home Textiles, cat: Orla Kiely Collection, cat: Orla Kiely Collection, cat: China & Crystal, cat: China & Crystal, cat: Irish Knitwear, cat: Irish Knitwear, cat: Pottery, cat: Pottery, cat: Irish Jewellery, cat: Irish Jewellery, cat: Gifts from Ireland, cat: Gifts from Ireland, cat: Country Casuals, cat: Country Casuals]\n",
        "Gift Cards/Vouchers ---- http://www.kilkennydesign.com/Category/150-httpkilkennydesigncomgift_cards_kilkenny_design_centre_.aspx\n",
        "added cate [cat: Home Textiles, cat: Home Textiles, cat: Orla Kiely Collection, cat: Orla Kiely Collection, cat: China & Crystal, cat: China & Crystal, cat: Irish Knitwear, cat: Irish Knitwear, cat: Pottery, cat: Pottery, cat: Irish Jewellery, cat: Irish Jewellery, cat: Gifts from Ireland, cat: Gifts from Ireland, cat: Country Casuals, cat: Country Casuals, cat: Gift Cards/Vouchers, cat: Gift Cards/Vouchers]\n",
        "LINKS ---- http://www.kilkennydesign.com/Category/226-links.aspx\n",
        "added cate [cat: Home Textiles, cat: Home Textiles, cat: Orla Kiely Collection, cat: Orla Kiely Collection, cat: China & Crystal, cat: China & Crystal, cat: Irish Knitwear, cat: Irish Knitwear, cat: Pottery, cat: Pottery, cat: Irish Jewellery, cat: Irish Jewellery, cat: Gifts from Ireland, cat: Gifts from Ireland, cat: Country Casuals, cat: Country Casuals, cat: Gift Cards/Vouchers, cat: Gift Cards/Vouchers, cat: LINKS, cat: LINKS]\n",
        "0 : cat: Home Textiles\n",
        "1 : cat: Orla Kiely Collection\n",
        "2 : cat: China & Crystal\n",
        "3 : cat: Irish Knitwear\n",
        "4 : cat: Pottery\n",
        "5 : cat: Irish Jewellery\n",
        "6 : cat: Gifts from Ireland\n",
        "7 : cat: Country Casuals\n",
        "8 : cat: Gift Cards/Vouchers\n"
       ]
      }
     ],
     "prompt_number": 160
    },
    {
     "cell_type": "markdown",
     "metadata": {},
     "source": [
      "### (name, url) -> (name, list(name,url))\n",
      "\n",
      "### categorize: turns li into (name,url)\n",
      "### subcategorize: turns list(li) into list((name,url)) "
     ]
    },
    {
     "cell_type": "code",
     "collapsed": false,
     "input": [
      "\n",
      "\n",
      "\n",
      "def subcategorize(category):\n",
      "    #print \"category\", category\n",
      "    subtext = soupify(category.url)\n",
      "    \n",
      "    subcat = subtext.find(\"div\", {'class':'treeview'}).find_all(\"li\", {'style': \"margin-left: {0}px\".format(category.font_size)})\n",
      "  \n",
      "    \n",
      "    if len(subcat) < 1:\n",
      "        return itemize(category,category.url)\n",
      "        \n",
      "    return [categorize(category, sc) for sc in subcat]\n",
      "\n",
      "#print subtext.find(\"div\", {'class':'treeview'})\n",
      "\n",
      "\n",
      "mc_subbed = [subcategorize(category) for category in menu_categories]\n",
      "print \"a\", #mc_subbed[0].name\n"
     ],
     "language": "python",
     "metadata": {},
     "outputs": [
      {
       "output_type": "stream",
       "stream": "stdout",
       "text": [
        "Foxford Woollen Mills ---- http://www.kilkennydesign.com/Category/202-foxford-woollen-mills.aspx\n",
        "added cate [cat: Foxford Woollen Mills, cat: Foxford Woollen Mills]\n",
        "Carraig Donn ---- http://www.kilkennydesign.com/Category/259-carraig-donn.aspx\n",
        "added cate [cat: Foxford Woollen Mills, cat: Foxford Woollen Mills, cat: Carraig Donn, cat: Carraig Donn]\n",
        "Orla Kiely Bags"
       ]
      },
      {
       "output_type": "stream",
       "stream": "stdout",
       "text": [
        " ---- http://www.kilkennydesign.com/Category/263-orla-kiely-bags.aspx\n",
        "added cate [cat: Orla Kiely Bags, cat: Orla Kiely Bags]\n",
        "Orla Kiely Fragrance ---- http://www.kilkennydesign.com/Category/264-orla-kiely-fragrance.aspx\n",
        "added cate [cat: Orla Kiely Bags, cat: Orla Kiely Bags, cat: Orla Kiely Fragrance, cat: Orla Kiely Fragrance]\n",
        "Orla Kiely House ---- http://www.kilkennydesign.com/Category/265-orla-kiely-house.aspx\n",
        "added cate [cat: Orla Kiely Bags, cat: Orla Kiely Bags, cat: Orla Kiely Fragrance, cat: Orla Kiely Fragrance, cat: Orla Kiely House, cat: Orla Kiely House]\n",
        "Waterford Crystal"
       ]
      },
      {
       "output_type": "stream",
       "stream": "stdout",
       "text": [
        " ---- http://www.kilkennydesign.com/Category/162-waterford-crystal.aspx\n",
        "added cate [cat: Waterford Crystal, cat: Waterford Crystal]\n",
        "Belleek ---- http://www.kilkennydesign.com/Category/131-belleek.aspx\n",
        "added cate [cat: Waterford Crystal, cat: Waterford Crystal, cat: Belleek, cat: Belleek]\n",
        "Aran Knitwear"
       ]
      },
      {
       "output_type": "stream",
       "stream": "stdout",
       "text": [
        " ---- http://www.kilkennydesign.com/Category/189-aran-knitwear.aspx\n",
        "added cate [cat: Aran Knitwear, cat: Aran Knitwear]\n",
        "Fisherman Out Of Ireland ---- http://www.kilkennydesign.com/Category/149-fisherman-out-of-ireland.aspx\n",
        "added cate [cat: Aran Knitwear, cat: Aran Knitwear, cat: Fisherman Out Of Ireland, cat: Fisherman Out Of Ireland]\n",
        "McKernan Scarves ---- http://www.kilkennydesign.com/Category/258-mckernan-scarves.aspx\n",
        "added cate [cat: Aran Knitwear, cat: Aran Knitwear, cat: Fisherman Out Of Ireland, cat: Fisherman Out Of Ireland, cat: McKernan Scarves, cat: McKernan Scarves]\n",
        "Nicholas Mosse"
       ]
      },
      {
       "output_type": "stream",
       "stream": "stdout",
       "text": [
        " ---- http://www.kilkennydesign.com/Category/53-nicholas-mosse.aspx\n",
        "added cate [cat: Nicholas Mosse, cat: Nicholas Mosse]\n",
        "Paul Maloney ---- http://www.kilkennydesign.com/Category/76-paul-maloney.aspx\n",
        "added cate [cat: Nicholas Mosse, cat: Nicholas Mosse, cat: Paul Maloney, cat: Paul Maloney]\n",
        "Kiltrea Bridge Pottery ---- http://www.kilkennydesign.com/Category/89-kiltrea-bridge-pottery.aspx\n",
        "added cate [cat: Nicholas Mosse, cat: Nicholas Mosse, cat: Paul Maloney, cat: Paul Maloney, cat: Kiltrea Bridge Pottery, cat: Kiltrea Bridge Pottery]\n",
        "Celtic  "
       ]
      },
      {
       "output_type": "stream",
       "stream": "stdout",
       "text": [
        " ---- http://www.kilkennydesign.com/Category/186-celtic.aspx\n",
        "added cate [cat: Celtic  , cat: Celtic  ]\n",
        "Contemporary  ---- http://www.kilkennydesign.com/Category/187-contemporary.aspx\n",
        "added cate [cat: Celtic  , cat: Celtic  , cat: Contemporary , cat: Contemporary ]\n",
        "Costume Jewellery ---- http://www.kilkennydesign.com/Category/234-costume-jewellery.aspx\n",
        "added cate [cat: Celtic  , cat: Celtic  , cat: Contemporary , cat: Contemporary , cat: Costume Jewellery, cat: Costume Jewellery]\n",
        "Ogham Wishes"
       ]
      },
      {
       "output_type": "stream",
       "stream": "stdout",
       "text": [
        " ---- http://www.kilkennydesign.com/Category/146-ogham-wishes.aspx\n",
        "added cate [cat: Ogham Wishes, cat: Ogham Wishes]\n",
        "Fragrance and Beauty ---- http://www.kilkennydesign.com/Category/245-fragrance-and-beauty.aspx\n",
        "added cate [cat: Ogham Wishes, cat: Ogham Wishes, cat: Fragrance and Beauty, cat: Fragrance and Beauty]\n",
        "Wild Goose ---- http://www.kilkennydesign.com/Category/147-wild-goose.aspx\n",
        "added cate [cat: Ogham Wishes, cat: Ogham Wishes, cat: Fragrance and Beauty, cat: Fragrance and Beauty, cat: Wild Goose, cat: Wild Goose]\n",
        "Marble Giftware ---- http://www.kilkennydesign.com/Category/208-marble-giftware.aspx\n",
        "added cate [cat: Ogham Wishes, cat: Ogham Wishes, cat: Fragrance and Beauty, cat: Fragrance and Beauty, cat: Wild Goose, cat: Wild Goose, cat: Marble Giftware, cat: Marble Giftware]\n",
        "Barbour Clothing"
       ]
      },
      {
       "output_type": "stream",
       "stream": "stdout",
       "text": [
        " ---- http://www.kilkennydesign.com/Category/159-barbour-clothing.aspx\n",
        "added cate [cat: Barbour Clothing, cat: Barbour Clothing]\n",
        "Mckernan Scarves ---- http://www.kilkennydesign.com/Category/104-mckernan-scarves.aspx\n",
        "added cate [cat: Barbour Clothing, cat: Barbour Clothing, cat: Mckernan Scarves, cat: Mckernan Scarves]\n",
        "a"
       ]
      },
      {
       "output_type": "stream",
       "stream": "stdout",
       "text": [
        "\n"
       ]
      }
     ],
     "prompt_number": 163
    },
    {
     "cell_type": "code",
     "collapsed": false,
     "input": [
      "print show(menu_categories)\n",
      "\n",
      "print menu_categories[3].categories"
     ],
     "language": "python",
     "metadata": {},
     "outputs": [
      {
       "ename": "TypeError",
       "evalue": "sequence item 0: expected string, Category found",
       "output_type": "pyerr",
       "traceback": [
        "\u001b[1;31m---------------------------------------------------------------------------\u001b[0m\n\u001b[1;31mTypeError\u001b[0m                                 Traceback (most recent call last)",
        "\u001b[1;32m<ipython-input-164-dbfa18ef944f>\u001b[0m in \u001b[0;36m<module>\u001b[1;34m()\u001b[0m\n\u001b[1;32m----> 1\u001b[1;33m \u001b[1;32mprint\u001b[0m \u001b[0mshow\u001b[0m\u001b[1;33m(\u001b[0m\u001b[0mmenu_categories\u001b[0m\u001b[1;33m)\u001b[0m\u001b[1;33m\u001b[0m\u001b[0m\n\u001b[0m\u001b[0;32m      2\u001b[0m \u001b[1;33m\u001b[0m\u001b[0m\n\u001b[0;32m      3\u001b[0m \u001b[1;32mprint\u001b[0m \u001b[0mmenu_categories\u001b[0m\u001b[1;33m[\u001b[0m\u001b[1;36m3\u001b[0m\u001b[1;33m]\u001b[0m\u001b[1;33m.\u001b[0m\u001b[0mcategories\u001b[0m\u001b[1;33m\u001b[0m\u001b[0m\n",
        "\u001b[1;32m<ipython-input-145-b1b2a29c1cdc>\u001b[0m in \u001b[0;36mshow\u001b[1;34m(_list)\u001b[0m\n\u001b[0;32m      7\u001b[0m \u001b[1;32mdef\u001b[0m \u001b[0mshow\u001b[0m\u001b[1;33m(\u001b[0m\u001b[0m_list\u001b[0m\u001b[1;33m)\u001b[0m\u001b[1;33m:\u001b[0m\u001b[1;33m\u001b[0m\u001b[0m\n\u001b[0;32m      8\u001b[0m     \u001b[1;32mfor\u001b[0m \u001b[0mnumber\u001b[0m\u001b[1;33m,\u001b[0m \u001b[0mitem\u001b[0m \u001b[1;32min\u001b[0m \u001b[0menumerate\u001b[0m\u001b[1;33m(\u001b[0m\u001b[0m_list\u001b[0m\u001b[1;33m)\u001b[0m\u001b[1;33m:\u001b[0m\u001b[1;33m\u001b[0m\u001b[0m\n\u001b[1;32m----> 9\u001b[1;33m         \u001b[1;32mprint\u001b[0m \u001b[0mnumber\u001b[0m\u001b[1;33m,\u001b[0m \u001b[1;34m\":\"\u001b[0m\u001b[1;33m,\u001b[0m \u001b[0mitem\u001b[0m\u001b[1;33m\u001b[0m\u001b[0m\n\u001b[0m",
        "\u001b[1;32m<ipython-input-159-d3a675e04e74>\u001b[0m in \u001b[0;36m__str__\u001b[1;34m(self)\u001b[0m\n\u001b[0;32m     28\u001b[0m \u001b[1;33m\u001b[0m\u001b[0m\n\u001b[0;32m     29\u001b[0m     \u001b[1;32mdef\u001b[0m \u001b[0m__str__\u001b[0m\u001b[1;33m(\u001b[0m\u001b[0mself\u001b[0m\u001b[1;33m)\u001b[0m\u001b[1;33m:\u001b[0m\u001b[1;33m\u001b[0m\u001b[0m\n\u001b[1;32m---> 30\u001b[1;33m         \u001b[1;32mreturn\u001b[0m \u001b[1;34m\"cat: \"\u001b[0m \u001b[1;33m+\u001b[0m\u001b[0mself\u001b[0m\u001b[1;33m.\u001b[0m\u001b[0mname\u001b[0m \u001b[1;33m+\u001b[0m \u001b[1;34m\"\\n\\t\"\u001b[0m\u001b[1;33m.\u001b[0m\u001b[0mjoin\u001b[0m\u001b[1;33m(\u001b[0m\u001b[0mself\u001b[0m\u001b[1;33m.\u001b[0m\u001b[0mcategories\u001b[0m\u001b[1;33m)\u001b[0m\u001b[1;33m\u001b[0m\u001b[0m\n\u001b[0m\u001b[0;32m     31\u001b[0m \u001b[1;33m\u001b[0m\u001b[0m\n\u001b[0;32m     32\u001b[0m     \u001b[1;32mdef\u001b[0m \u001b[0m__repr__\u001b[0m\u001b[1;33m(\u001b[0m\u001b[0mself\u001b[0m\u001b[1;33m)\u001b[0m\u001b[1;33m:\u001b[0m\u001b[1;33m\u001b[0m\u001b[0m\n",
        "\u001b[1;31mTypeError\u001b[0m: sequence item 0: expected string, Category found"
       ]
      },
      {
       "output_type": "stream",
       "stream": "stdout",
       "text": [
        "0 : "
       ]
      }
     ],
     "prompt_number": 164
    },
    {
     "cell_type": "markdown",
     "metadata": {},
     "source": [
      "### (name, list(name,url)) -> (name, list(name,list(name,url)))"
     ]
    },
    {
     "cell_type": "code",
     "collapsed": false,
     "input": [
      "#show(mc_subbed)\n",
      "\n",
      "def foo(name, item_list):\n",
      "    print \"name\", name\n",
      "    print \"list in foo\", item_list\n",
      "    l =[(category[0], subcategorize(category, \"30\")) for category in item_list]\n",
      "    print \"LIST\", len(l)\n",
      "    #print show(l)\n",
      "    print l\n",
      "    if len(l) < 1:\n",
      "        pass#l[1] = [\"empty\"]\n",
      "    return (name,l)\n",
      "    #show([categorize(c) for c in subcategorize(item_list[0])])\n",
      "    #return [name, subcategorize(item) for item in item_list]\n",
      "\n",
      "show( [foo(*f) for f in mc_subbed])"
     ],
     "language": "python",
     "metadata": {},
     "outputs": [
      {
       "ename": "TypeError",
       "evalue": "'Category' object is not iterable",
       "output_type": "pyerr",
       "traceback": [
        "\u001b[1;31m---------------------------------------------------------------------------\u001b[0m\n\u001b[1;31mTypeError\u001b[0m                                 Traceback (most recent call last)",
        "\u001b[1;32m<ipython-input-151-99c1e22d5f73>\u001b[0m in \u001b[0;36m<module>\u001b[1;34m()\u001b[0m\n\u001b[0;32m     14\u001b[0m     \u001b[1;31m#return [name, subcategorize(item) for item in item_list]\u001b[0m\u001b[1;33m\u001b[0m\u001b[1;33m\u001b[0m\u001b[0m\n\u001b[0;32m     15\u001b[0m \u001b[1;33m\u001b[0m\u001b[0m\n\u001b[1;32m---> 16\u001b[1;33m \u001b[0mshow\u001b[0m\u001b[1;33m(\u001b[0m \u001b[1;33m[\u001b[0m\u001b[0mfoo\u001b[0m\u001b[1;33m(\u001b[0m\u001b[1;33m*\u001b[0m\u001b[0mf\u001b[0m\u001b[1;33m)\u001b[0m \u001b[1;32mfor\u001b[0m \u001b[0mf\u001b[0m \u001b[1;32min\u001b[0m \u001b[0mmc_subbed\u001b[0m\u001b[1;33m]\u001b[0m\u001b[1;33m)\u001b[0m\u001b[1;33m\u001b[0m\u001b[0m\n\u001b[0m",
        "\u001b[1;32m<ipython-input-151-99c1e22d5f73>\u001b[0m in \u001b[0;36mfoo\u001b[1;34m(name, item_list)\u001b[0m\n\u001b[0;32m      4\u001b[0m     \u001b[1;32mprint\u001b[0m \u001b[1;34m\"name\"\u001b[0m\u001b[1;33m,\u001b[0m \u001b[0mname\u001b[0m\u001b[1;33m\u001b[0m\u001b[0m\n\u001b[0;32m      5\u001b[0m     \u001b[1;32mprint\u001b[0m \u001b[1;34m\"list in foo\"\u001b[0m\u001b[1;33m,\u001b[0m \u001b[0mitem_list\u001b[0m\u001b[1;33m\u001b[0m\u001b[0m\n\u001b[1;32m----> 6\u001b[1;33m     \u001b[0ml\u001b[0m \u001b[1;33m=\u001b[0m\u001b[1;33m[\u001b[0m\u001b[1;33m(\u001b[0m\u001b[0mcategory\u001b[0m\u001b[1;33m[\u001b[0m\u001b[1;36m0\u001b[0m\u001b[1;33m]\u001b[0m\u001b[1;33m,\u001b[0m \u001b[0msubcategorize\u001b[0m\u001b[1;33m(\u001b[0m\u001b[0mcategory\u001b[0m\u001b[1;33m,\u001b[0m \u001b[1;34m\"30\"\u001b[0m\u001b[1;33m)\u001b[0m\u001b[1;33m)\u001b[0m \u001b[1;32mfor\u001b[0m \u001b[0mcategory\u001b[0m \u001b[1;32min\u001b[0m \u001b[0mitem_list\u001b[0m\u001b[1;33m]\u001b[0m\u001b[1;33m\u001b[0m\u001b[0m\n\u001b[0m\u001b[0;32m      7\u001b[0m     \u001b[1;32mprint\u001b[0m \u001b[1;34m\"LIST\"\u001b[0m\u001b[1;33m,\u001b[0m \u001b[0mlen\u001b[0m\u001b[1;33m(\u001b[0m\u001b[0ml\u001b[0m\u001b[1;33m)\u001b[0m\u001b[1;33m\u001b[0m\u001b[0m\n\u001b[0;32m      8\u001b[0m     \u001b[1;31m#print show(l)\u001b[0m\u001b[1;33m\u001b[0m\u001b[1;33m\u001b[0m\u001b[0m\n",
        "\u001b[1;31mTypeError\u001b[0m: 'Category' object is not iterable"
       ]
      },
      {
       "output_type": "stream",
       "stream": "stdout",
       "text": [
        "name cat: Foxford Woollen Mills\n",
        "list in foo cat: Carraig Donn\n"
       ]
      }
     ],
     "prompt_number": 151
    },
    {
     "cell_type": "code",
     "collapsed": false,
     "input": [
      "#show(mc_subbed)\n",
      "#mc_subbed_subbed = [(category[0], subcategorize(category[1])) for name, category in mc_subbed]\n",
      "for name, categories in mc_subbed:\n",
      "    pass\n",
      "\n",
      "def categorize_list(_list):\n",
      "    print \"cl:\", _list\n",
      "    j = [subcategorize(item) for item in _list]\n",
      "    print \"j\", j\n",
      "    return j\n",
      "    \n",
      "mc_subbed_subbed = [(name, categorize_list(category_list)) for name, category_list in mc_subbed]\n",
      "\n",
      "for i in mc_subbed_subbed:\n",
      "    print i[0]\n",
      "    show(i[1])"
     ],
     "language": "python",
     "metadata": {},
     "outputs": []
    },
    {
     "cell_type": "code",
     "collapsed": false,
     "input": [
      "show(mc_subbed)"
     ],
     "language": "python",
     "metadata": {},
     "outputs": []
    }
   ],
   "metadata": {}
  }
 ]
}